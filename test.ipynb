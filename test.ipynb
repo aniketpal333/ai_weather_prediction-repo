{
 "cells": [
  {
   "cell_type": "code",
   "execution_count": 348,
   "metadata": {},
   "outputs": [],
   "source": [
    "#import warnings\n",
    "#warnings.filterwarnings('ignore')\n",
    "\n",
    "import numpy as np\n",
    "\n",
    "import pandas as pd\n",
    "\n",
    "import matplotlib.pyplot as plt\n",
    "\n",
    "import sklearn\n",
    "from sklearn.model_selection import train_test_split\n",
    "from sklearn.metrics import mean_absolute_percentage_error, mean_absolute_error\n",
    "from sklearn.linear_model import LinearRegression\n",
    "from sklearn.ensemble import GradientBoostingRegressor\n",
    "from sklearn.linear_model import BayesianRidge\n",
    "from sklearn.linear_model import ElasticNet\n",
    "from sklearn.preprocessing import OneHotEncoder\n",
    "\n",
    "from lightgbm import LGBMRegressor\n",
    "\n",
    "import requests\n",
    "\n",
    "#from sklearn import preprocessing"
   ]
  },
  {
   "cell_type": "code",
   "execution_count": 349,
   "metadata": {},
   "outputs": [
    {
     "data": {
      "text/html": [
       "<div>\n",
       "<style scoped>\n",
       "    .dataframe tbody tr th:only-of-type {\n",
       "        vertical-align: middle;\n",
       "    }\n",
       "\n",
       "    .dataframe tbody tr th {\n",
       "        vertical-align: top;\n",
       "    }\n",
       "\n",
       "    .dataframe thead th {\n",
       "        text-align: right;\n",
       "    }\n",
       "</style>\n",
       "<table border=\"1\" class=\"dataframe\">\n",
       "  <thead>\n",
       "    <tr style=\"text-align: right;\">\n",
       "      <th></th>\n",
       "      <th>Address</th>\n",
       "      <th>Date time</th>\n",
       "      <th>Minimum Temperature</th>\n",
       "      <th>Maximum Temperature</th>\n",
       "      <th>Temperature</th>\n",
       "      <th>Dew Point</th>\n",
       "      <th>Relative Humidity</th>\n",
       "      <th>Heat Index</th>\n",
       "      <th>Wind Speed</th>\n",
       "      <th>Wind Gust</th>\n",
       "      <th>...</th>\n",
       "      <th>Visibility</th>\n",
       "      <th>Cloud Cover</th>\n",
       "      <th>Sea Level Pressure</th>\n",
       "      <th>Weather Type</th>\n",
       "      <th>Latitude</th>\n",
       "      <th>Longitude</th>\n",
       "      <th>Resolved Address</th>\n",
       "      <th>Name</th>\n",
       "      <th>Info</th>\n",
       "      <th>Conditions</th>\n",
       "    </tr>\n",
       "  </thead>\n",
       "  <tbody>\n",
       "    <tr>\n",
       "      <th>0</th>\n",
       "      <td>Kolkata,West Bengal,India</td>\n",
       "      <td>01/01/2017</td>\n",
       "      <td>14.0</td>\n",
       "      <td>25.3</td>\n",
       "      <td>19.9</td>\n",
       "      <td>16.5</td>\n",
       "      <td>82.47</td>\n",
       "      <td>NaN</td>\n",
       "      <td>5.8</td>\n",
       "      <td>NaN</td>\n",
       "      <td>...</td>\n",
       "      <td>1.2</td>\n",
       "      <td>4.9</td>\n",
       "      <td>1015.9</td>\n",
       "      <td>Mist, Fog, Smoke Or Haze</td>\n",
       "      <td>22.5705</td>\n",
       "      <td>88.3713</td>\n",
       "      <td>Kolkata, WB, India</td>\n",
       "      <td>Kolkata, WB, India</td>\n",
       "      <td>NaN</td>\n",
       "      <td>Clear</td>\n",
       "    </tr>\n",
       "    <tr>\n",
       "      <th>1</th>\n",
       "      <td>Kolkata,West Bengal,India</td>\n",
       "      <td>01/02/2017</td>\n",
       "      <td>16.0</td>\n",
       "      <td>26.0</td>\n",
       "      <td>20.6</td>\n",
       "      <td>16.0</td>\n",
       "      <td>76.76</td>\n",
       "      <td>NaN</td>\n",
       "      <td>8.1</td>\n",
       "      <td>NaN</td>\n",
       "      <td>...</td>\n",
       "      <td>1.4</td>\n",
       "      <td>0.3</td>\n",
       "      <td>1015.6</td>\n",
       "      <td>Mist, Fog, Smoke Or Haze</td>\n",
       "      <td>22.5705</td>\n",
       "      <td>88.3713</td>\n",
       "      <td>Kolkata, WB, India</td>\n",
       "      <td>Kolkata, WB, India</td>\n",
       "      <td>NaN</td>\n",
       "      <td>Clear</td>\n",
       "    </tr>\n",
       "    <tr>\n",
       "      <th>2</th>\n",
       "      <td>Kolkata,West Bengal,India</td>\n",
       "      <td>01/03/2017</td>\n",
       "      <td>16.0</td>\n",
       "      <td>27.0</td>\n",
       "      <td>21.1</td>\n",
       "      <td>15.6</td>\n",
       "      <td>73.12</td>\n",
       "      <td>27.3</td>\n",
       "      <td>9.2</td>\n",
       "      <td>NaN</td>\n",
       "      <td>...</td>\n",
       "      <td>1.6</td>\n",
       "      <td>10.7</td>\n",
       "      <td>1014.7</td>\n",
       "      <td>Mist, Smoke Or Haze</td>\n",
       "      <td>22.5705</td>\n",
       "      <td>88.3713</td>\n",
       "      <td>Kolkata, WB, India</td>\n",
       "      <td>Kolkata, WB, India</td>\n",
       "      <td>NaN</td>\n",
       "      <td>Clear</td>\n",
       "    </tr>\n",
       "    <tr>\n",
       "      <th>3</th>\n",
       "      <td>Kolkata,West Bengal,India</td>\n",
       "      <td>01/04/2017</td>\n",
       "      <td>16.0</td>\n",
       "      <td>25.0</td>\n",
       "      <td>19.9</td>\n",
       "      <td>14.5</td>\n",
       "      <td>72.57</td>\n",
       "      <td>NaN</td>\n",
       "      <td>8.1</td>\n",
       "      <td>NaN</td>\n",
       "      <td>...</td>\n",
       "      <td>1.8</td>\n",
       "      <td>2.3</td>\n",
       "      <td>1014.6</td>\n",
       "      <td>Mist, Smoke Or Haze</td>\n",
       "      <td>22.5705</td>\n",
       "      <td>88.3713</td>\n",
       "      <td>Kolkata, WB, India</td>\n",
       "      <td>Kolkata, WB, India</td>\n",
       "      <td>NaN</td>\n",
       "      <td>Clear</td>\n",
       "    </tr>\n",
       "    <tr>\n",
       "      <th>4</th>\n",
       "      <td>Kolkata,West Bengal,India</td>\n",
       "      <td>01/05/2017</td>\n",
       "      <td>15.0</td>\n",
       "      <td>25.6</td>\n",
       "      <td>19.6</td>\n",
       "      <td>13.7</td>\n",
       "      <td>71.88</td>\n",
       "      <td>NaN</td>\n",
       "      <td>8.1</td>\n",
       "      <td>NaN</td>\n",
       "      <td>...</td>\n",
       "      <td>1.9</td>\n",
       "      <td>0.0</td>\n",
       "      <td>1013.7</td>\n",
       "      <td>Mist, Smoke Or Haze</td>\n",
       "      <td>22.5705</td>\n",
       "      <td>88.3713</td>\n",
       "      <td>Kolkata, WB, India</td>\n",
       "      <td>Kolkata, WB, India</td>\n",
       "      <td>NaN</td>\n",
       "      <td>Clear</td>\n",
       "    </tr>\n",
       "  </tbody>\n",
       "</table>\n",
       "<p>5 rows × 25 columns</p>\n",
       "</div>"
      ],
      "text/plain": [
       "                     Address   Date time  Minimum Temperature  \\\n",
       "0  Kolkata,West Bengal,India  01/01/2017                 14.0   \n",
       "1  Kolkata,West Bengal,India  01/02/2017                 16.0   \n",
       "2  Kolkata,West Bengal,India  01/03/2017                 16.0   \n",
       "3  Kolkata,West Bengal,India  01/04/2017                 16.0   \n",
       "4  Kolkata,West Bengal,India  01/05/2017                 15.0   \n",
       "\n",
       "   Maximum Temperature  Temperature  Dew Point  Relative Humidity  Heat Index  \\\n",
       "0                 25.3         19.9       16.5              82.47         NaN   \n",
       "1                 26.0         20.6       16.0              76.76         NaN   \n",
       "2                 27.0         21.1       15.6              73.12        27.3   \n",
       "3                 25.0         19.9       14.5              72.57         NaN   \n",
       "4                 25.6         19.6       13.7              71.88         NaN   \n",
       "\n",
       "   Wind Speed  Wind Gust  ...  Visibility  Cloud Cover  Sea Level Pressure  \\\n",
       "0         5.8        NaN  ...         1.2          4.9              1015.9   \n",
       "1         8.1        NaN  ...         1.4          0.3              1015.6   \n",
       "2         9.2        NaN  ...         1.6         10.7              1014.7   \n",
       "3         8.1        NaN  ...         1.8          2.3              1014.6   \n",
       "4         8.1        NaN  ...         1.9          0.0              1013.7   \n",
       "\n",
       "               Weather Type  Latitude  Longitude    Resolved Address  \\\n",
       "0  Mist, Fog, Smoke Or Haze   22.5705    88.3713  Kolkata, WB, India   \n",
       "1  Mist, Fog, Smoke Or Haze   22.5705    88.3713  Kolkata, WB, India   \n",
       "2       Mist, Smoke Or Haze   22.5705    88.3713  Kolkata, WB, India   \n",
       "3       Mist, Smoke Or Haze   22.5705    88.3713  Kolkata, WB, India   \n",
       "4       Mist, Smoke Or Haze   22.5705    88.3713  Kolkata, WB, India   \n",
       "\n",
       "                 Name Info  Conditions  \n",
       "0  Kolkata, WB, India  NaN       Clear  \n",
       "1  Kolkata, WB, India  NaN       Clear  \n",
       "2  Kolkata, WB, India  NaN       Clear  \n",
       "3  Kolkata, WB, India  NaN       Clear  \n",
       "4  Kolkata, WB, India  NaN       Clear  \n",
       "\n",
       "[5 rows x 25 columns]"
      ]
     },
     "execution_count": 349,
     "metadata": {},
     "output_type": "execute_result"
    }
   ],
   "source": [
    "weather_df = pd.read_csv('fiveyearsweatherdata.csv', header = 0) \n",
    "weather_df.head()"
   ]
  },
  {
   "cell_type": "code",
   "execution_count": 350,
   "metadata": {},
   "outputs": [
    {
     "data": {
      "text/html": [
       "<div>\n",
       "<style scoped>\n",
       "    .dataframe tbody tr th:only-of-type {\n",
       "        vertical-align: middle;\n",
       "    }\n",
       "\n",
       "    .dataframe tbody tr th {\n",
       "        vertical-align: top;\n",
       "    }\n",
       "\n",
       "    .dataframe thead th {\n",
       "        text-align: right;\n",
       "    }\n",
       "</style>\n",
       "<table border=\"1\" class=\"dataframe\">\n",
       "  <thead>\n",
       "    <tr style=\"text-align: right;\">\n",
       "      <th></th>\n",
       "      <th>Address</th>\n",
       "      <th>Date time</th>\n",
       "      <th>Minimum Temperature</th>\n",
       "      <th>Maximum Temperature</th>\n",
       "      <th>Temperature</th>\n",
       "      <th>Dew Point</th>\n",
       "      <th>Relative Humidity</th>\n",
       "      <th>Heat Index</th>\n",
       "      <th>Wind Speed</th>\n",
       "      <th>Wind Gust</th>\n",
       "      <th>...</th>\n",
       "      <th>Date time_12/30/2019</th>\n",
       "      <th>Date time_12/30/2020</th>\n",
       "      <th>Date time_12/30/2021</th>\n",
       "      <th>Date time_12/30/2022</th>\n",
       "      <th>Date time_12/31/2017</th>\n",
       "      <th>Date time_12/31/2018</th>\n",
       "      <th>Date time_12/31/2019</th>\n",
       "      <th>Date time_12/31/2020</th>\n",
       "      <th>Date time_12/31/2021</th>\n",
       "      <th>Date time_12/31/2022</th>\n",
       "    </tr>\n",
       "  </thead>\n",
       "  <tbody>\n",
       "    <tr>\n",
       "      <th>0</th>\n",
       "      <td>Kolkata,West Bengal,India</td>\n",
       "      <td>01/01/2017</td>\n",
       "      <td>14.0</td>\n",
       "      <td>25.3</td>\n",
       "      <td>19.9</td>\n",
       "      <td>16.5</td>\n",
       "      <td>82.47</td>\n",
       "      <td>NaN</td>\n",
       "      <td>5.8</td>\n",
       "      <td>NaN</td>\n",
       "      <td>...</td>\n",
       "      <td>0.0</td>\n",
       "      <td>0.0</td>\n",
       "      <td>0.0</td>\n",
       "      <td>0.0</td>\n",
       "      <td>0.0</td>\n",
       "      <td>0.0</td>\n",
       "      <td>0.0</td>\n",
       "      <td>0.0</td>\n",
       "      <td>0.0</td>\n",
       "      <td>0.0</td>\n",
       "    </tr>\n",
       "    <tr>\n",
       "      <th>1</th>\n",
       "      <td>Kolkata,West Bengal,India</td>\n",
       "      <td>01/02/2017</td>\n",
       "      <td>16.0</td>\n",
       "      <td>26.0</td>\n",
       "      <td>20.6</td>\n",
       "      <td>16.0</td>\n",
       "      <td>76.76</td>\n",
       "      <td>NaN</td>\n",
       "      <td>8.1</td>\n",
       "      <td>NaN</td>\n",
       "      <td>...</td>\n",
       "      <td>0.0</td>\n",
       "      <td>0.0</td>\n",
       "      <td>0.0</td>\n",
       "      <td>0.0</td>\n",
       "      <td>0.0</td>\n",
       "      <td>0.0</td>\n",
       "      <td>0.0</td>\n",
       "      <td>0.0</td>\n",
       "      <td>0.0</td>\n",
       "      <td>0.0</td>\n",
       "    </tr>\n",
       "    <tr>\n",
       "      <th>2</th>\n",
       "      <td>Kolkata,West Bengal,India</td>\n",
       "      <td>01/03/2017</td>\n",
       "      <td>16.0</td>\n",
       "      <td>27.0</td>\n",
       "      <td>21.1</td>\n",
       "      <td>15.6</td>\n",
       "      <td>73.12</td>\n",
       "      <td>27.3</td>\n",
       "      <td>9.2</td>\n",
       "      <td>NaN</td>\n",
       "      <td>...</td>\n",
       "      <td>0.0</td>\n",
       "      <td>0.0</td>\n",
       "      <td>0.0</td>\n",
       "      <td>0.0</td>\n",
       "      <td>0.0</td>\n",
       "      <td>0.0</td>\n",
       "      <td>0.0</td>\n",
       "      <td>0.0</td>\n",
       "      <td>0.0</td>\n",
       "      <td>0.0</td>\n",
       "    </tr>\n",
       "    <tr>\n",
       "      <th>3</th>\n",
       "      <td>Kolkata,West Bengal,India</td>\n",
       "      <td>01/04/2017</td>\n",
       "      <td>16.0</td>\n",
       "      <td>25.0</td>\n",
       "      <td>19.9</td>\n",
       "      <td>14.5</td>\n",
       "      <td>72.57</td>\n",
       "      <td>NaN</td>\n",
       "      <td>8.1</td>\n",
       "      <td>NaN</td>\n",
       "      <td>...</td>\n",
       "      <td>0.0</td>\n",
       "      <td>0.0</td>\n",
       "      <td>0.0</td>\n",
       "      <td>0.0</td>\n",
       "      <td>0.0</td>\n",
       "      <td>0.0</td>\n",
       "      <td>0.0</td>\n",
       "      <td>0.0</td>\n",
       "      <td>0.0</td>\n",
       "      <td>0.0</td>\n",
       "    </tr>\n",
       "    <tr>\n",
       "      <th>4</th>\n",
       "      <td>Kolkata,West Bengal,India</td>\n",
       "      <td>01/05/2017</td>\n",
       "      <td>15.0</td>\n",
       "      <td>25.6</td>\n",
       "      <td>19.6</td>\n",
       "      <td>13.7</td>\n",
       "      <td>71.88</td>\n",
       "      <td>NaN</td>\n",
       "      <td>8.1</td>\n",
       "      <td>NaN</td>\n",
       "      <td>...</td>\n",
       "      <td>0.0</td>\n",
       "      <td>0.0</td>\n",
       "      <td>0.0</td>\n",
       "      <td>0.0</td>\n",
       "      <td>0.0</td>\n",
       "      <td>0.0</td>\n",
       "      <td>0.0</td>\n",
       "      <td>0.0</td>\n",
       "      <td>0.0</td>\n",
       "      <td>0.0</td>\n",
       "    </tr>\n",
       "    <tr>\n",
       "      <th>...</th>\n",
       "      <td>...</td>\n",
       "      <td>...</td>\n",
       "      <td>...</td>\n",
       "      <td>...</td>\n",
       "      <td>...</td>\n",
       "      <td>...</td>\n",
       "      <td>...</td>\n",
       "      <td>...</td>\n",
       "      <td>...</td>\n",
       "      <td>...</td>\n",
       "      <td>...</td>\n",
       "      <td>...</td>\n",
       "      <td>...</td>\n",
       "      <td>...</td>\n",
       "      <td>...</td>\n",
       "      <td>...</td>\n",
       "      <td>...</td>\n",
       "      <td>...</td>\n",
       "      <td>...</td>\n",
       "      <td>...</td>\n",
       "      <td>...</td>\n",
       "    </tr>\n",
       "    <tr>\n",
       "      <th>4012</th>\n",
       "      <td>Kolkata,West Bengal,India</td>\n",
       "      <td>12/27/2022</td>\n",
       "      <td>21.8</td>\n",
       "      <td>30.0</td>\n",
       "      <td>24.9</td>\n",
       "      <td>21.0</td>\n",
       "      <td>80.08</td>\n",
       "      <td>32.0</td>\n",
       "      <td>10.3</td>\n",
       "      <td>NaN</td>\n",
       "      <td>...</td>\n",
       "      <td>0.0</td>\n",
       "      <td>0.0</td>\n",
       "      <td>0.0</td>\n",
       "      <td>0.0</td>\n",
       "      <td>0.0</td>\n",
       "      <td>0.0</td>\n",
       "      <td>0.0</td>\n",
       "      <td>0.0</td>\n",
       "      <td>0.0</td>\n",
       "      <td>0.0</td>\n",
       "    </tr>\n",
       "    <tr>\n",
       "      <th>4013</th>\n",
       "      <td>Kolkata,West Bengal,India</td>\n",
       "      <td>12/28/2022</td>\n",
       "      <td>18.3</td>\n",
       "      <td>27.0</td>\n",
       "      <td>22.7</td>\n",
       "      <td>18.1</td>\n",
       "      <td>76.56</td>\n",
       "      <td>27.7</td>\n",
       "      <td>9.2</td>\n",
       "      <td>NaN</td>\n",
       "      <td>...</td>\n",
       "      <td>0.0</td>\n",
       "      <td>0.0</td>\n",
       "      <td>0.0</td>\n",
       "      <td>0.0</td>\n",
       "      <td>0.0</td>\n",
       "      <td>0.0</td>\n",
       "      <td>0.0</td>\n",
       "      <td>0.0</td>\n",
       "      <td>0.0</td>\n",
       "      <td>0.0</td>\n",
       "    </tr>\n",
       "    <tr>\n",
       "      <th>4014</th>\n",
       "      <td>Kolkata,West Bengal,India</td>\n",
       "      <td>12/29/2022</td>\n",
       "      <td>15.0</td>\n",
       "      <td>26.0</td>\n",
       "      <td>20.0</td>\n",
       "      <td>11.5</td>\n",
       "      <td>60.60</td>\n",
       "      <td>NaN</td>\n",
       "      <td>6.9</td>\n",
       "      <td>NaN</td>\n",
       "      <td>...</td>\n",
       "      <td>0.0</td>\n",
       "      <td>0.0</td>\n",
       "      <td>0.0</td>\n",
       "      <td>0.0</td>\n",
       "      <td>0.0</td>\n",
       "      <td>0.0</td>\n",
       "      <td>0.0</td>\n",
       "      <td>0.0</td>\n",
       "      <td>0.0</td>\n",
       "      <td>0.0</td>\n",
       "    </tr>\n",
       "    <tr>\n",
       "      <th>4015</th>\n",
       "      <td>Kolkata,West Bengal,India</td>\n",
       "      <td>12/30/2022</td>\n",
       "      <td>14.9</td>\n",
       "      <td>26.0</td>\n",
       "      <td>20.2</td>\n",
       "      <td>13.6</td>\n",
       "      <td>67.41</td>\n",
       "      <td>NaN</td>\n",
       "      <td>5.8</td>\n",
       "      <td>NaN</td>\n",
       "      <td>...</td>\n",
       "      <td>0.0</td>\n",
       "      <td>0.0</td>\n",
       "      <td>0.0</td>\n",
       "      <td>1.0</td>\n",
       "      <td>0.0</td>\n",
       "      <td>0.0</td>\n",
       "      <td>0.0</td>\n",
       "      <td>0.0</td>\n",
       "      <td>0.0</td>\n",
       "      <td>0.0</td>\n",
       "    </tr>\n",
       "    <tr>\n",
       "      <th>4016</th>\n",
       "      <td>Kolkata,West Bengal,India</td>\n",
       "      <td>12/31/2022</td>\n",
       "      <td>15.1</td>\n",
       "      <td>27.0</td>\n",
       "      <td>21.1</td>\n",
       "      <td>16.0</td>\n",
       "      <td>74.46</td>\n",
       "      <td>27.5</td>\n",
       "      <td>6.9</td>\n",
       "      <td>NaN</td>\n",
       "      <td>...</td>\n",
       "      <td>0.0</td>\n",
       "      <td>0.0</td>\n",
       "      <td>0.0</td>\n",
       "      <td>0.0</td>\n",
       "      <td>0.0</td>\n",
       "      <td>0.0</td>\n",
       "      <td>0.0</td>\n",
       "      <td>0.0</td>\n",
       "      <td>0.0</td>\n",
       "      <td>1.0</td>\n",
       "    </tr>\n",
       "  </tbody>\n",
       "</table>\n",
       "<p>4017 rows × 2601 columns</p>\n",
       "</div>"
      ],
      "text/plain": [
       "                        Address   Date time  Minimum Temperature  \\\n",
       "0     Kolkata,West Bengal,India  01/01/2017                 14.0   \n",
       "1     Kolkata,West Bengal,India  01/02/2017                 16.0   \n",
       "2     Kolkata,West Bengal,India  01/03/2017                 16.0   \n",
       "3     Kolkata,West Bengal,India  01/04/2017                 16.0   \n",
       "4     Kolkata,West Bengal,India  01/05/2017                 15.0   \n",
       "...                         ...         ...                  ...   \n",
       "4012  Kolkata,West Bengal,India  12/27/2022                 21.8   \n",
       "4013  Kolkata,West Bengal,India  12/28/2022                 18.3   \n",
       "4014  Kolkata,West Bengal,India  12/29/2022                 15.0   \n",
       "4015  Kolkata,West Bengal,India  12/30/2022                 14.9   \n",
       "4016  Kolkata,West Bengal,India  12/31/2022                 15.1   \n",
       "\n",
       "      Maximum Temperature  Temperature  Dew Point  Relative Humidity  \\\n",
       "0                    25.3         19.9       16.5              82.47   \n",
       "1                    26.0         20.6       16.0              76.76   \n",
       "2                    27.0         21.1       15.6              73.12   \n",
       "3                    25.0         19.9       14.5              72.57   \n",
       "4                    25.6         19.6       13.7              71.88   \n",
       "...                   ...          ...        ...                ...   \n",
       "4012                 30.0         24.9       21.0              80.08   \n",
       "4013                 27.0         22.7       18.1              76.56   \n",
       "4014                 26.0         20.0       11.5              60.60   \n",
       "4015                 26.0         20.2       13.6              67.41   \n",
       "4016                 27.0         21.1       16.0              74.46   \n",
       "\n",
       "      Heat Index  Wind Speed  Wind Gust  ...  Date time_12/30/2019  \\\n",
       "0            NaN         5.8        NaN  ...                   0.0   \n",
       "1            NaN         8.1        NaN  ...                   0.0   \n",
       "2           27.3         9.2        NaN  ...                   0.0   \n",
       "3            NaN         8.1        NaN  ...                   0.0   \n",
       "4            NaN         8.1        NaN  ...                   0.0   \n",
       "...          ...         ...        ...  ...                   ...   \n",
       "4012        32.0        10.3        NaN  ...                   0.0   \n",
       "4013        27.7         9.2        NaN  ...                   0.0   \n",
       "4014         NaN         6.9        NaN  ...                   0.0   \n",
       "4015         NaN         5.8        NaN  ...                   0.0   \n",
       "4016        27.5         6.9        NaN  ...                   0.0   \n",
       "\n",
       "      Date time_12/30/2020  Date time_12/30/2021  Date time_12/30/2022  \\\n",
       "0                      0.0                   0.0                   0.0   \n",
       "1                      0.0                   0.0                   0.0   \n",
       "2                      0.0                   0.0                   0.0   \n",
       "3                      0.0                   0.0                   0.0   \n",
       "4                      0.0                   0.0                   0.0   \n",
       "...                    ...                   ...                   ...   \n",
       "4012                   0.0                   0.0                   0.0   \n",
       "4013                   0.0                   0.0                   0.0   \n",
       "4014                   0.0                   0.0                   0.0   \n",
       "4015                   0.0                   0.0                   1.0   \n",
       "4016                   0.0                   0.0                   0.0   \n",
       "\n",
       "      Date time_12/31/2017  Date time_12/31/2018  Date time_12/31/2019  \\\n",
       "0                      0.0                   0.0                   0.0   \n",
       "1                      0.0                   0.0                   0.0   \n",
       "2                      0.0                   0.0                   0.0   \n",
       "3                      0.0                   0.0                   0.0   \n",
       "4                      0.0                   0.0                   0.0   \n",
       "...                    ...                   ...                   ...   \n",
       "4012                   0.0                   0.0                   0.0   \n",
       "4013                   0.0                   0.0                   0.0   \n",
       "4014                   0.0                   0.0                   0.0   \n",
       "4015                   0.0                   0.0                   0.0   \n",
       "4016                   0.0                   0.0                   0.0   \n",
       "\n",
       "      Date time_12/31/2020  Date time_12/31/2021  Date time_12/31/2022  \n",
       "0                      0.0                   0.0                   0.0  \n",
       "1                      0.0                   0.0                   0.0  \n",
       "2                      0.0                   0.0                   0.0  \n",
       "3                      0.0                   0.0                   0.0  \n",
       "4                      0.0                   0.0                   0.0  \n",
       "...                    ...                   ...                   ...  \n",
       "4012                   0.0                   0.0                   0.0  \n",
       "4013                   0.0                   0.0                   0.0  \n",
       "4014                   0.0                   0.0                   0.0  \n",
       "4015                   0.0                   0.0                   0.0  \n",
       "4016                   0.0                   0.0                   1.0  \n",
       "\n",
       "[4017 rows x 2601 columns]"
      ]
     },
     "execution_count": 350,
     "metadata": {},
     "output_type": "execute_result"
    }
   ],
   "source": [
    "one_hot = OneHotEncoder()\n",
    "transformed_data = one_hot.fit_transform(weather_df[['Weather Type']]).toarray()\n",
    "df = weather_df.drop('Weather Type', axis=1)\n",
    "df = pd.concat([df, pd.DataFrame(transformed_data, columns = one_hot.get_feature_names_out())], axis=1)\n",
    "\n",
    "transformed_data2 = one_hot.fit_transform(weather_df[['Date time']]).toarray()\n",
    "df2 = weather_df.drop('Date time', axis=1)\n",
    "df2 = pd.concat([df, pd.DataFrame(transformed_data2, columns = one_hot.get_feature_names_out())], axis=1)\n",
    "weather_df = df2\n",
    "weather_df"
   ]
  },
  {
   "cell_type": "code",
   "execution_count": 351,
   "metadata": {},
   "outputs": [
    {
     "data": {
      "text/plain": [
       "array(['Clear', 'Partially cloudy', 'Rain, Partially cloudy', 'Rain',\n",
       "       'Rain, Overcast', 'Overcast'], dtype=object)"
      ]
     },
     "execution_count": 351,
     "metadata": {},
     "output_type": "execute_result"
    }
   ],
   "source": [
    "weather_df['Conditions'].unique()"
   ]
  },
  {
   "cell_type": "code",
   "execution_count": 352,
   "metadata": {},
   "outputs": [],
   "source": [
    "for index, element in enumerate(weather_df['Conditions']):\n",
    "    if element == 'Clear':\n",
    "        weather_df.at[index, 'Conditions'] = 1\n",
    "    elif element == 'Partially cloudy':\n",
    "        weather_df.at[index, 'Conditions'] = 2\n",
    "    elif element == 'Rain, Partially cloudy':\n",
    "        weather_df.at[index, 'Conditions'] = 3\n",
    "    elif element == 'Rain':\n",
    "        weather_df.at[index, 'Conditions'] = 4\n",
    "    elif element == 'Rain, Overcast':\n",
    "        weather_df.at[index, 'Conditions'] = 5\n",
    "    elif element == 'Overcast':\n",
    "        weather_df.at[index, 'Conditions'] = 6"
   ]
  },
  {
   "cell_type": "code",
   "execution_count": 353,
   "metadata": {},
   "outputs": [
    {
     "data": {
      "text/plain": [
       "array([1, 2, 3, 4, 5, 6], dtype=object)"
      ]
     },
     "execution_count": 353,
     "metadata": {},
     "output_type": "execute_result"
    }
   ],
   "source": [
    "weather_df['Conditions'].unique()"
   ]
  },
  {
   "cell_type": "code",
   "execution_count": 354,
   "metadata": {},
   "outputs": [],
   "source": [
    "weather_df.drop(columns = ['Info', 'Address', 'Resolved Address', 'Name', 'Date time'], inplace = True)"
   ]
  },
  {
   "cell_type": "code",
   "execution_count": 355,
   "metadata": {},
   "outputs": [
    {
     "data": {
      "text/html": [
       "<div>\n",
       "<style scoped>\n",
       "    .dataframe tbody tr th:only-of-type {\n",
       "        vertical-align: middle;\n",
       "    }\n",
       "\n",
       "    .dataframe tbody tr th {\n",
       "        vertical-align: top;\n",
       "    }\n",
       "\n",
       "    .dataframe thead th {\n",
       "        text-align: right;\n",
       "    }\n",
       "</style>\n",
       "<table border=\"1\" class=\"dataframe\">\n",
       "  <thead>\n",
       "    <tr style=\"text-align: right;\">\n",
       "      <th></th>\n",
       "      <th>Minimum Temperature</th>\n",
       "      <th>Maximum Temperature</th>\n",
       "      <th>Temperature</th>\n",
       "      <th>Dew Point</th>\n",
       "      <th>Relative Humidity</th>\n",
       "      <th>Heat Index</th>\n",
       "      <th>Wind Speed</th>\n",
       "      <th>Wind Gust</th>\n",
       "      <th>Wind Direction</th>\n",
       "      <th>Wind Chill</th>\n",
       "      <th>...</th>\n",
       "      <th>Date time_12/30/2019</th>\n",
       "      <th>Date time_12/30/2020</th>\n",
       "      <th>Date time_12/30/2021</th>\n",
       "      <th>Date time_12/30/2022</th>\n",
       "      <th>Date time_12/31/2017</th>\n",
       "      <th>Date time_12/31/2018</th>\n",
       "      <th>Date time_12/31/2019</th>\n",
       "      <th>Date time_12/31/2020</th>\n",
       "      <th>Date time_12/31/2021</th>\n",
       "      <th>Date time_12/31/2022</th>\n",
       "    </tr>\n",
       "  </thead>\n",
       "  <tbody>\n",
       "    <tr>\n",
       "      <th>0</th>\n",
       "      <td>14.0</td>\n",
       "      <td>25.3</td>\n",
       "      <td>19.9</td>\n",
       "      <td>16.5</td>\n",
       "      <td>82.47</td>\n",
       "      <td>NaN</td>\n",
       "      <td>5.8</td>\n",
       "      <td>NaN</td>\n",
       "      <td>78.33</td>\n",
       "      <td>NaN</td>\n",
       "      <td>...</td>\n",
       "      <td>0.0</td>\n",
       "      <td>0.0</td>\n",
       "      <td>0.0</td>\n",
       "      <td>0.0</td>\n",
       "      <td>0.0</td>\n",
       "      <td>0.0</td>\n",
       "      <td>0.0</td>\n",
       "      <td>0.0</td>\n",
       "      <td>0.0</td>\n",
       "      <td>0.0</td>\n",
       "    </tr>\n",
       "    <tr>\n",
       "      <th>1</th>\n",
       "      <td>16.0</td>\n",
       "      <td>26.0</td>\n",
       "      <td>20.6</td>\n",
       "      <td>16.0</td>\n",
       "      <td>76.76</td>\n",
       "      <td>NaN</td>\n",
       "      <td>8.1</td>\n",
       "      <td>NaN</td>\n",
       "      <td>148.54</td>\n",
       "      <td>NaN</td>\n",
       "      <td>...</td>\n",
       "      <td>0.0</td>\n",
       "      <td>0.0</td>\n",
       "      <td>0.0</td>\n",
       "      <td>0.0</td>\n",
       "      <td>0.0</td>\n",
       "      <td>0.0</td>\n",
       "      <td>0.0</td>\n",
       "      <td>0.0</td>\n",
       "      <td>0.0</td>\n",
       "      <td>0.0</td>\n",
       "    </tr>\n",
       "    <tr>\n",
       "      <th>2</th>\n",
       "      <td>16.0</td>\n",
       "      <td>27.0</td>\n",
       "      <td>21.1</td>\n",
       "      <td>15.6</td>\n",
       "      <td>73.12</td>\n",
       "      <td>27.3</td>\n",
       "      <td>9.2</td>\n",
       "      <td>NaN</td>\n",
       "      <td>244.92</td>\n",
       "      <td>NaN</td>\n",
       "      <td>...</td>\n",
       "      <td>0.0</td>\n",
       "      <td>0.0</td>\n",
       "      <td>0.0</td>\n",
       "      <td>0.0</td>\n",
       "      <td>0.0</td>\n",
       "      <td>0.0</td>\n",
       "      <td>0.0</td>\n",
       "      <td>0.0</td>\n",
       "      <td>0.0</td>\n",
       "      <td>0.0</td>\n",
       "    </tr>\n",
       "    <tr>\n",
       "      <th>3</th>\n",
       "      <td>16.0</td>\n",
       "      <td>25.0</td>\n",
       "      <td>19.9</td>\n",
       "      <td>14.5</td>\n",
       "      <td>72.57</td>\n",
       "      <td>NaN</td>\n",
       "      <td>8.1</td>\n",
       "      <td>NaN</td>\n",
       "      <td>244.38</td>\n",
       "      <td>NaN</td>\n",
       "      <td>...</td>\n",
       "      <td>0.0</td>\n",
       "      <td>0.0</td>\n",
       "      <td>0.0</td>\n",
       "      <td>0.0</td>\n",
       "      <td>0.0</td>\n",
       "      <td>0.0</td>\n",
       "      <td>0.0</td>\n",
       "      <td>0.0</td>\n",
       "      <td>0.0</td>\n",
       "      <td>0.0</td>\n",
       "    </tr>\n",
       "    <tr>\n",
       "      <th>4</th>\n",
       "      <td>15.0</td>\n",
       "      <td>25.6</td>\n",
       "      <td>19.6</td>\n",
       "      <td>13.7</td>\n",
       "      <td>71.88</td>\n",
       "      <td>NaN</td>\n",
       "      <td>8.1</td>\n",
       "      <td>NaN</td>\n",
       "      <td>231.58</td>\n",
       "      <td>NaN</td>\n",
       "      <td>...</td>\n",
       "      <td>0.0</td>\n",
       "      <td>0.0</td>\n",
       "      <td>0.0</td>\n",
       "      <td>0.0</td>\n",
       "      <td>0.0</td>\n",
       "      <td>0.0</td>\n",
       "      <td>0.0</td>\n",
       "      <td>0.0</td>\n",
       "      <td>0.0</td>\n",
       "      <td>0.0</td>\n",
       "    </tr>\n",
       "  </tbody>\n",
       "</table>\n",
       "<p>5 rows × 2596 columns</p>\n",
       "</div>"
      ],
      "text/plain": [
       "   Minimum Temperature  Maximum Temperature  Temperature  Dew Point  \\\n",
       "0                 14.0                 25.3         19.9       16.5   \n",
       "1                 16.0                 26.0         20.6       16.0   \n",
       "2                 16.0                 27.0         21.1       15.6   \n",
       "3                 16.0                 25.0         19.9       14.5   \n",
       "4                 15.0                 25.6         19.6       13.7   \n",
       "\n",
       "   Relative Humidity  Heat Index  Wind Speed  Wind Gust  Wind Direction  \\\n",
       "0              82.47         NaN         5.8        NaN           78.33   \n",
       "1              76.76         NaN         8.1        NaN          148.54   \n",
       "2              73.12        27.3         9.2        NaN          244.92   \n",
       "3              72.57         NaN         8.1        NaN          244.38   \n",
       "4              71.88         NaN         8.1        NaN          231.58   \n",
       "\n",
       "   Wind Chill  ...  Date time_12/30/2019  Date time_12/30/2020  \\\n",
       "0         NaN  ...                   0.0                   0.0   \n",
       "1         NaN  ...                   0.0                   0.0   \n",
       "2         NaN  ...                   0.0                   0.0   \n",
       "3         NaN  ...                   0.0                   0.0   \n",
       "4         NaN  ...                   0.0                   0.0   \n",
       "\n",
       "   Date time_12/30/2021  Date time_12/30/2022  Date time_12/31/2017  \\\n",
       "0                   0.0                   0.0                   0.0   \n",
       "1                   0.0                   0.0                   0.0   \n",
       "2                   0.0                   0.0                   0.0   \n",
       "3                   0.0                   0.0                   0.0   \n",
       "4                   0.0                   0.0                   0.0   \n",
       "\n",
       "   Date time_12/31/2018  Date time_12/31/2019  Date time_12/31/2020  \\\n",
       "0                   0.0                   0.0                   0.0   \n",
       "1                   0.0                   0.0                   0.0   \n",
       "2                   0.0                   0.0                   0.0   \n",
       "3                   0.0                   0.0                   0.0   \n",
       "4                   0.0                   0.0                   0.0   \n",
       "\n",
       "  Date time_12/31/2021  Date time_12/31/2022  \n",
       "0                  0.0                   0.0  \n",
       "1                  0.0                   0.0  \n",
       "2                  0.0                   0.0  \n",
       "3                  0.0                   0.0  \n",
       "4                  0.0                   0.0  \n",
       "\n",
       "[5 rows x 2596 columns]"
      ]
     },
     "execution_count": 355,
     "metadata": {},
     "output_type": "execute_result"
    }
   ],
   "source": [
    "weather_df.head()"
   ]
  },
  {
   "cell_type": "code",
   "execution_count": 356,
   "metadata": {},
   "outputs": [],
   "source": [
    "weather_df = weather_df.fillna(weather_df.mean())"
   ]
  },
  {
   "cell_type": "code",
   "execution_count": 357,
   "metadata": {},
   "outputs": [
    {
     "data": {
      "text/plain": [
       "Minimum Temperature     0\n",
       "Maximum Temperature     0\n",
       "Temperature             0\n",
       "Dew Point               0\n",
       "Relative Humidity       0\n",
       "                       ..\n",
       "Date time_12/31/2018    0\n",
       "Date time_12/31/2019    0\n",
       "Date time_12/31/2020    0\n",
       "Date time_12/31/2021    0\n",
       "Date time_12/31/2022    0\n",
       "Length: 2596, dtype: int64"
      ]
     },
     "execution_count": 357,
     "metadata": {},
     "output_type": "execute_result"
    }
   ],
   "source": [
    "weather_df.isna().sum()"
   ]
  },
  {
   "cell_type": "code",
   "execution_count": 358,
   "metadata": {},
   "outputs": [
    {
     "data": {
      "text/html": [
       "<div>\n",
       "<style scoped>\n",
       "    .dataframe tbody tr th:only-of-type {\n",
       "        vertical-align: middle;\n",
       "    }\n",
       "\n",
       "    .dataframe tbody tr th {\n",
       "        vertical-align: top;\n",
       "    }\n",
       "\n",
       "    .dataframe thead th {\n",
       "        text-align: right;\n",
       "    }\n",
       "</style>\n",
       "<table border=\"1\" class=\"dataframe\">\n",
       "  <thead>\n",
       "    <tr style=\"text-align: right;\">\n",
       "      <th></th>\n",
       "      <th>Minimum Temperature</th>\n",
       "      <th>Maximum Temperature</th>\n",
       "      <th>Temperature</th>\n",
       "      <th>Dew Point</th>\n",
       "      <th>Relative Humidity</th>\n",
       "      <th>Heat Index</th>\n",
       "      <th>Wind Speed</th>\n",
       "      <th>Wind Gust</th>\n",
       "      <th>Wind Direction</th>\n",
       "      <th>Wind Chill</th>\n",
       "      <th>...</th>\n",
       "      <th>Date time_12/30/2019</th>\n",
       "      <th>Date time_12/30/2020</th>\n",
       "      <th>Date time_12/30/2021</th>\n",
       "      <th>Date time_12/30/2022</th>\n",
       "      <th>Date time_12/31/2017</th>\n",
       "      <th>Date time_12/31/2018</th>\n",
       "      <th>Date time_12/31/2019</th>\n",
       "      <th>Date time_12/31/2020</th>\n",
       "      <th>Date time_12/31/2021</th>\n",
       "      <th>Date time_12/31/2022</th>\n",
       "    </tr>\n",
       "  </thead>\n",
       "  <tbody>\n",
       "    <tr>\n",
       "      <th>0</th>\n",
       "      <td>14.0</td>\n",
       "      <td>25.3</td>\n",
       "      <td>19.9</td>\n",
       "      <td>16.5</td>\n",
       "      <td>82.47</td>\n",
       "      <td>40.563588</td>\n",
       "      <td>5.8</td>\n",
       "      <td>30.265517</td>\n",
       "      <td>78.33</td>\n",
       "      <td>8.730769</td>\n",
       "      <td>...</td>\n",
       "      <td>0.0</td>\n",
       "      <td>0.0</td>\n",
       "      <td>0.0</td>\n",
       "      <td>0.0</td>\n",
       "      <td>0.0</td>\n",
       "      <td>0.0</td>\n",
       "      <td>0.0</td>\n",
       "      <td>0.0</td>\n",
       "      <td>0.0</td>\n",
       "      <td>0.0</td>\n",
       "    </tr>\n",
       "    <tr>\n",
       "      <th>1</th>\n",
       "      <td>16.0</td>\n",
       "      <td>26.0</td>\n",
       "      <td>20.6</td>\n",
       "      <td>16.0</td>\n",
       "      <td>76.76</td>\n",
       "      <td>40.563588</td>\n",
       "      <td>8.1</td>\n",
       "      <td>30.265517</td>\n",
       "      <td>148.54</td>\n",
       "      <td>8.730769</td>\n",
       "      <td>...</td>\n",
       "      <td>0.0</td>\n",
       "      <td>0.0</td>\n",
       "      <td>0.0</td>\n",
       "      <td>0.0</td>\n",
       "      <td>0.0</td>\n",
       "      <td>0.0</td>\n",
       "      <td>0.0</td>\n",
       "      <td>0.0</td>\n",
       "      <td>0.0</td>\n",
       "      <td>0.0</td>\n",
       "    </tr>\n",
       "    <tr>\n",
       "      <th>2</th>\n",
       "      <td>16.0</td>\n",
       "      <td>27.0</td>\n",
       "      <td>21.1</td>\n",
       "      <td>15.6</td>\n",
       "      <td>73.12</td>\n",
       "      <td>27.300000</td>\n",
       "      <td>9.2</td>\n",
       "      <td>30.265517</td>\n",
       "      <td>244.92</td>\n",
       "      <td>8.730769</td>\n",
       "      <td>...</td>\n",
       "      <td>0.0</td>\n",
       "      <td>0.0</td>\n",
       "      <td>0.0</td>\n",
       "      <td>0.0</td>\n",
       "      <td>0.0</td>\n",
       "      <td>0.0</td>\n",
       "      <td>0.0</td>\n",
       "      <td>0.0</td>\n",
       "      <td>0.0</td>\n",
       "      <td>0.0</td>\n",
       "    </tr>\n",
       "    <tr>\n",
       "      <th>3</th>\n",
       "      <td>16.0</td>\n",
       "      <td>25.0</td>\n",
       "      <td>19.9</td>\n",
       "      <td>14.5</td>\n",
       "      <td>72.57</td>\n",
       "      <td>40.563588</td>\n",
       "      <td>8.1</td>\n",
       "      <td>30.265517</td>\n",
       "      <td>244.38</td>\n",
       "      <td>8.730769</td>\n",
       "      <td>...</td>\n",
       "      <td>0.0</td>\n",
       "      <td>0.0</td>\n",
       "      <td>0.0</td>\n",
       "      <td>0.0</td>\n",
       "      <td>0.0</td>\n",
       "      <td>0.0</td>\n",
       "      <td>0.0</td>\n",
       "      <td>0.0</td>\n",
       "      <td>0.0</td>\n",
       "      <td>0.0</td>\n",
       "    </tr>\n",
       "    <tr>\n",
       "      <th>4</th>\n",
       "      <td>15.0</td>\n",
       "      <td>25.6</td>\n",
       "      <td>19.6</td>\n",
       "      <td>13.7</td>\n",
       "      <td>71.88</td>\n",
       "      <td>40.563588</td>\n",
       "      <td>8.1</td>\n",
       "      <td>30.265517</td>\n",
       "      <td>231.58</td>\n",
       "      <td>8.730769</td>\n",
       "      <td>...</td>\n",
       "      <td>0.0</td>\n",
       "      <td>0.0</td>\n",
       "      <td>0.0</td>\n",
       "      <td>0.0</td>\n",
       "      <td>0.0</td>\n",
       "      <td>0.0</td>\n",
       "      <td>0.0</td>\n",
       "      <td>0.0</td>\n",
       "      <td>0.0</td>\n",
       "      <td>0.0</td>\n",
       "    </tr>\n",
       "  </tbody>\n",
       "</table>\n",
       "<p>5 rows × 2596 columns</p>\n",
       "</div>"
      ],
      "text/plain": [
       "   Minimum Temperature  Maximum Temperature  Temperature  Dew Point  \\\n",
       "0                 14.0                 25.3         19.9       16.5   \n",
       "1                 16.0                 26.0         20.6       16.0   \n",
       "2                 16.0                 27.0         21.1       15.6   \n",
       "3                 16.0                 25.0         19.9       14.5   \n",
       "4                 15.0                 25.6         19.6       13.7   \n",
       "\n",
       "   Relative Humidity  Heat Index  Wind Speed  Wind Gust  Wind Direction  \\\n",
       "0              82.47   40.563588         5.8  30.265517           78.33   \n",
       "1              76.76   40.563588         8.1  30.265517          148.54   \n",
       "2              73.12   27.300000         9.2  30.265517          244.92   \n",
       "3              72.57   40.563588         8.1  30.265517          244.38   \n",
       "4              71.88   40.563588         8.1  30.265517          231.58   \n",
       "\n",
       "   Wind Chill  ...  Date time_12/30/2019  Date time_12/30/2020  \\\n",
       "0    8.730769  ...                   0.0                   0.0   \n",
       "1    8.730769  ...                   0.0                   0.0   \n",
       "2    8.730769  ...                   0.0                   0.0   \n",
       "3    8.730769  ...                   0.0                   0.0   \n",
       "4    8.730769  ...                   0.0                   0.0   \n",
       "\n",
       "   Date time_12/30/2021  Date time_12/30/2022  Date time_12/31/2017  \\\n",
       "0                   0.0                   0.0                   0.0   \n",
       "1                   0.0                   0.0                   0.0   \n",
       "2                   0.0                   0.0                   0.0   \n",
       "3                   0.0                   0.0                   0.0   \n",
       "4                   0.0                   0.0                   0.0   \n",
       "\n",
       "   Date time_12/31/2018  Date time_12/31/2019  Date time_12/31/2020  \\\n",
       "0                   0.0                   0.0                   0.0   \n",
       "1                   0.0                   0.0                   0.0   \n",
       "2                   0.0                   0.0                   0.0   \n",
       "3                   0.0                   0.0                   0.0   \n",
       "4                   0.0                   0.0                   0.0   \n",
       "\n",
       "   Date time_12/31/2021  Date time_12/31/2022  \n",
       "0                   0.0                   0.0  \n",
       "1                   0.0                   0.0  \n",
       "2                   0.0                   0.0  \n",
       "3                   0.0                   0.0  \n",
       "4                   0.0                   0.0  \n",
       "\n",
       "[5 rows x 2596 columns]"
      ]
     },
     "execution_count": 358,
     "metadata": {},
     "output_type": "execute_result"
    }
   ],
   "source": [
    "weather_df.head()"
   ]
  },
  {
   "cell_type": "code",
   "execution_count": 359,
   "metadata": {},
   "outputs": [],
   "source": [
    "y = weather_df.pop('Conditions')"
   ]
  },
  {
   "cell_type": "code",
   "execution_count": 360,
   "metadata": {},
   "outputs": [
    {
     "data": {
      "text/plain": [
       "array([1, 1, 1, ..., 1, 1, 1], dtype=int64)"
      ]
     },
     "execution_count": 360,
     "metadata": {},
     "output_type": "execute_result"
    }
   ],
   "source": [
    "y = y.to_numpy()\n",
    "y"
   ]
  },
  {
   "cell_type": "code",
   "execution_count": 361,
   "metadata": {},
   "outputs": [
    {
     "data": {
      "text/html": [
       "<div>\n",
       "<style scoped>\n",
       "    .dataframe tbody tr th:only-of-type {\n",
       "        vertical-align: middle;\n",
       "    }\n",
       "\n",
       "    .dataframe tbody tr th {\n",
       "        vertical-align: top;\n",
       "    }\n",
       "\n",
       "    .dataframe thead th {\n",
       "        text-align: right;\n",
       "    }\n",
       "</style>\n",
       "<table border=\"1\" class=\"dataframe\">\n",
       "  <thead>\n",
       "    <tr style=\"text-align: right;\">\n",
       "      <th></th>\n",
       "      <th>Minimum Temperature</th>\n",
       "      <th>Maximum Temperature</th>\n",
       "      <th>Temperature</th>\n",
       "      <th>Dew Point</th>\n",
       "      <th>Relative Humidity</th>\n",
       "      <th>Heat Index</th>\n",
       "      <th>Wind Speed</th>\n",
       "      <th>Wind Gust</th>\n",
       "      <th>Wind Direction</th>\n",
       "      <th>Wind Chill</th>\n",
       "      <th>...</th>\n",
       "      <th>Date time_12/30/2019</th>\n",
       "      <th>Date time_12/30/2020</th>\n",
       "      <th>Date time_12/30/2021</th>\n",
       "      <th>Date time_12/30/2022</th>\n",
       "      <th>Date time_12/31/2017</th>\n",
       "      <th>Date time_12/31/2018</th>\n",
       "      <th>Date time_12/31/2019</th>\n",
       "      <th>Date time_12/31/2020</th>\n",
       "      <th>Date time_12/31/2021</th>\n",
       "      <th>Date time_12/31/2022</th>\n",
       "    </tr>\n",
       "  </thead>\n",
       "  <tbody>\n",
       "    <tr>\n",
       "      <th>0</th>\n",
       "      <td>14.0</td>\n",
       "      <td>25.3</td>\n",
       "      <td>19.9</td>\n",
       "      <td>16.5</td>\n",
       "      <td>82.47</td>\n",
       "      <td>40.563588</td>\n",
       "      <td>5.8</td>\n",
       "      <td>30.265517</td>\n",
       "      <td>78.33</td>\n",
       "      <td>8.730769</td>\n",
       "      <td>...</td>\n",
       "      <td>0.0</td>\n",
       "      <td>0.0</td>\n",
       "      <td>0.0</td>\n",
       "      <td>0.0</td>\n",
       "      <td>0.0</td>\n",
       "      <td>0.0</td>\n",
       "      <td>0.0</td>\n",
       "      <td>0.0</td>\n",
       "      <td>0.0</td>\n",
       "      <td>0.0</td>\n",
       "    </tr>\n",
       "    <tr>\n",
       "      <th>1</th>\n",
       "      <td>16.0</td>\n",
       "      <td>26.0</td>\n",
       "      <td>20.6</td>\n",
       "      <td>16.0</td>\n",
       "      <td>76.76</td>\n",
       "      <td>40.563588</td>\n",
       "      <td>8.1</td>\n",
       "      <td>30.265517</td>\n",
       "      <td>148.54</td>\n",
       "      <td>8.730769</td>\n",
       "      <td>...</td>\n",
       "      <td>0.0</td>\n",
       "      <td>0.0</td>\n",
       "      <td>0.0</td>\n",
       "      <td>0.0</td>\n",
       "      <td>0.0</td>\n",
       "      <td>0.0</td>\n",
       "      <td>0.0</td>\n",
       "      <td>0.0</td>\n",
       "      <td>0.0</td>\n",
       "      <td>0.0</td>\n",
       "    </tr>\n",
       "    <tr>\n",
       "      <th>2</th>\n",
       "      <td>16.0</td>\n",
       "      <td>27.0</td>\n",
       "      <td>21.1</td>\n",
       "      <td>15.6</td>\n",
       "      <td>73.12</td>\n",
       "      <td>27.300000</td>\n",
       "      <td>9.2</td>\n",
       "      <td>30.265517</td>\n",
       "      <td>244.92</td>\n",
       "      <td>8.730769</td>\n",
       "      <td>...</td>\n",
       "      <td>0.0</td>\n",
       "      <td>0.0</td>\n",
       "      <td>0.0</td>\n",
       "      <td>0.0</td>\n",
       "      <td>0.0</td>\n",
       "      <td>0.0</td>\n",
       "      <td>0.0</td>\n",
       "      <td>0.0</td>\n",
       "      <td>0.0</td>\n",
       "      <td>0.0</td>\n",
       "    </tr>\n",
       "    <tr>\n",
       "      <th>3</th>\n",
       "      <td>16.0</td>\n",
       "      <td>25.0</td>\n",
       "      <td>19.9</td>\n",
       "      <td>14.5</td>\n",
       "      <td>72.57</td>\n",
       "      <td>40.563588</td>\n",
       "      <td>8.1</td>\n",
       "      <td>30.265517</td>\n",
       "      <td>244.38</td>\n",
       "      <td>8.730769</td>\n",
       "      <td>...</td>\n",
       "      <td>0.0</td>\n",
       "      <td>0.0</td>\n",
       "      <td>0.0</td>\n",
       "      <td>0.0</td>\n",
       "      <td>0.0</td>\n",
       "      <td>0.0</td>\n",
       "      <td>0.0</td>\n",
       "      <td>0.0</td>\n",
       "      <td>0.0</td>\n",
       "      <td>0.0</td>\n",
       "    </tr>\n",
       "    <tr>\n",
       "      <th>4</th>\n",
       "      <td>15.0</td>\n",
       "      <td>25.6</td>\n",
       "      <td>19.6</td>\n",
       "      <td>13.7</td>\n",
       "      <td>71.88</td>\n",
       "      <td>40.563588</td>\n",
       "      <td>8.1</td>\n",
       "      <td>30.265517</td>\n",
       "      <td>231.58</td>\n",
       "      <td>8.730769</td>\n",
       "      <td>...</td>\n",
       "      <td>0.0</td>\n",
       "      <td>0.0</td>\n",
       "      <td>0.0</td>\n",
       "      <td>0.0</td>\n",
       "      <td>0.0</td>\n",
       "      <td>0.0</td>\n",
       "      <td>0.0</td>\n",
       "      <td>0.0</td>\n",
       "      <td>0.0</td>\n",
       "      <td>0.0</td>\n",
       "    </tr>\n",
       "  </tbody>\n",
       "</table>\n",
       "<p>5 rows × 2595 columns</p>\n",
       "</div>"
      ],
      "text/plain": [
       "   Minimum Temperature  Maximum Temperature  Temperature  Dew Point  \\\n",
       "0                 14.0                 25.3         19.9       16.5   \n",
       "1                 16.0                 26.0         20.6       16.0   \n",
       "2                 16.0                 27.0         21.1       15.6   \n",
       "3                 16.0                 25.0         19.9       14.5   \n",
       "4                 15.0                 25.6         19.6       13.7   \n",
       "\n",
       "   Relative Humidity  Heat Index  Wind Speed  Wind Gust  Wind Direction  \\\n",
       "0              82.47   40.563588         5.8  30.265517           78.33   \n",
       "1              76.76   40.563588         8.1  30.265517          148.54   \n",
       "2              73.12   27.300000         9.2  30.265517          244.92   \n",
       "3              72.57   40.563588         8.1  30.265517          244.38   \n",
       "4              71.88   40.563588         8.1  30.265517          231.58   \n",
       "\n",
       "   Wind Chill  ...  Date time_12/30/2019  Date time_12/30/2020  \\\n",
       "0    8.730769  ...                   0.0                   0.0   \n",
       "1    8.730769  ...                   0.0                   0.0   \n",
       "2    8.730769  ...                   0.0                   0.0   \n",
       "3    8.730769  ...                   0.0                   0.0   \n",
       "4    8.730769  ...                   0.0                   0.0   \n",
       "\n",
       "   Date time_12/30/2021  Date time_12/30/2022  Date time_12/31/2017  \\\n",
       "0                   0.0                   0.0                   0.0   \n",
       "1                   0.0                   0.0                   0.0   \n",
       "2                   0.0                   0.0                   0.0   \n",
       "3                   0.0                   0.0                   0.0   \n",
       "4                   0.0                   0.0                   0.0   \n",
       "\n",
       "   Date time_12/31/2018  Date time_12/31/2019  Date time_12/31/2020  \\\n",
       "0                   0.0                   0.0                   0.0   \n",
       "1                   0.0                   0.0                   0.0   \n",
       "2                   0.0                   0.0                   0.0   \n",
       "3                   0.0                   0.0                   0.0   \n",
       "4                   0.0                   0.0                   0.0   \n",
       "\n",
       "   Date time_12/31/2021  Date time_12/31/2022  \n",
       "0                   0.0                   0.0  \n",
       "1                   0.0                   0.0  \n",
       "2                   0.0                   0.0  \n",
       "3                   0.0                   0.0  \n",
       "4                   0.0                   0.0  \n",
       "\n",
       "[5 rows x 2595 columns]"
      ]
     },
     "execution_count": 361,
     "metadata": {},
     "output_type": "execute_result"
    }
   ],
   "source": [
    "weather_df.head()"
   ]
  },
  {
   "cell_type": "code",
   "execution_count": 362,
   "metadata": {},
   "outputs": [
    {
     "data": {
      "text/plain": [
       "array([[14. , 25.3, 19.9, ...,  0. ,  0. ,  0. ],\n",
       "       [16. , 26. , 20.6, ...,  0. ,  0. ,  0. ],\n",
       "       [16. , 27. , 21.1, ...,  0. ,  0. ,  0. ],\n",
       "       ...,\n",
       "       [15. , 26. , 20. , ...,  0. ,  0. ,  0. ],\n",
       "       [14.9, 26. , 20.2, ...,  0. ,  0. ,  0. ],\n",
       "       [15.1, 27. , 21.1, ...,  0. ,  0. ,  1. ]])"
      ]
     },
     "execution_count": 362,
     "metadata": {},
     "output_type": "execute_result"
    }
   ],
   "source": [
    "x = weather_df.to_numpy()\n",
    "x"
   ]
  },
  {
   "cell_type": "code",
   "execution_count": 363,
   "metadata": {},
   "outputs": [
    {
     "data": {
      "text/plain": [
       "((4017, 2595), (4017,))"
      ]
     },
     "execution_count": 363,
     "metadata": {},
     "output_type": "execute_result"
    }
   ],
   "source": [
    "x.shape, y.shape"
   ]
  },
  {
   "cell_type": "code",
   "execution_count": 364,
   "metadata": {},
   "outputs": [],
   "source": [
    "x_train, x_test, y_train, y_test = train_test_split(x, y, shuffle = True, test_size = 0.1)"
   ]
  },
  {
   "cell_type": "code",
   "execution_count": 365,
   "metadata": {},
   "outputs": [
    {
     "data": {
      "text/plain": [
       "((3615, 2595), (402, 2595))"
      ]
     },
     "execution_count": 365,
     "metadata": {},
     "output_type": "execute_result"
    }
   ],
   "source": [
    "x_train.shape, x_test.shape"
   ]
  },
  {
   "cell_type": "code",
   "execution_count": 366,
   "metadata": {},
   "outputs": [
    {
     "data": {
      "text/html": [
       "<style>#sk-container-id-34 {color: black;}#sk-container-id-34 pre{padding: 0;}#sk-container-id-34 div.sk-toggleable {background-color: white;}#sk-container-id-34 label.sk-toggleable__label {cursor: pointer;display: block;width: 100%;margin-bottom: 0;padding: 0.3em;box-sizing: border-box;text-align: center;}#sk-container-id-34 label.sk-toggleable__label-arrow:before {content: \"▸\";float: left;margin-right: 0.25em;color: #696969;}#sk-container-id-34 label.sk-toggleable__label-arrow:hover:before {color: black;}#sk-container-id-34 div.sk-estimator:hover label.sk-toggleable__label-arrow:before {color: black;}#sk-container-id-34 div.sk-toggleable__content {max-height: 0;max-width: 0;overflow: hidden;text-align: left;background-color: #f0f8ff;}#sk-container-id-34 div.sk-toggleable__content pre {margin: 0.2em;color: black;border-radius: 0.25em;background-color: #f0f8ff;}#sk-container-id-34 input.sk-toggleable__control:checked~div.sk-toggleable__content {max-height: 200px;max-width: 100%;overflow: auto;}#sk-container-id-34 input.sk-toggleable__control:checked~label.sk-toggleable__label-arrow:before {content: \"▾\";}#sk-container-id-34 div.sk-estimator input.sk-toggleable__control:checked~label.sk-toggleable__label {background-color: #d4ebff;}#sk-container-id-34 div.sk-label input.sk-toggleable__control:checked~label.sk-toggleable__label {background-color: #d4ebff;}#sk-container-id-34 input.sk-hidden--visually {border: 0;clip: rect(1px 1px 1px 1px);clip: rect(1px, 1px, 1px, 1px);height: 1px;margin: -1px;overflow: hidden;padding: 0;position: absolute;width: 1px;}#sk-container-id-34 div.sk-estimator {font-family: monospace;background-color: #f0f8ff;border: 1px dotted black;border-radius: 0.25em;box-sizing: border-box;margin-bottom: 0.5em;}#sk-container-id-34 div.sk-estimator:hover {background-color: #d4ebff;}#sk-container-id-34 div.sk-parallel-item::after {content: \"\";width: 100%;border-bottom: 1px solid gray;flex-grow: 1;}#sk-container-id-34 div.sk-label:hover label.sk-toggleable__label {background-color: #d4ebff;}#sk-container-id-34 div.sk-serial::before {content: \"\";position: absolute;border-left: 1px solid gray;box-sizing: border-box;top: 0;bottom: 0;left: 50%;z-index: 0;}#sk-container-id-34 div.sk-serial {display: flex;flex-direction: column;align-items: center;background-color: white;padding-right: 0.2em;padding-left: 0.2em;position: relative;}#sk-container-id-34 div.sk-item {position: relative;z-index: 1;}#sk-container-id-34 div.sk-parallel {display: flex;align-items: stretch;justify-content: center;background-color: white;position: relative;}#sk-container-id-34 div.sk-item::before, #sk-container-id-34 div.sk-parallel-item::before {content: \"\";position: absolute;border-left: 1px solid gray;box-sizing: border-box;top: 0;bottom: 0;left: 50%;z-index: -1;}#sk-container-id-34 div.sk-parallel-item {display: flex;flex-direction: column;z-index: 1;position: relative;background-color: white;}#sk-container-id-34 div.sk-parallel-item:first-child::after {align-self: flex-end;width: 50%;}#sk-container-id-34 div.sk-parallel-item:last-child::after {align-self: flex-start;width: 50%;}#sk-container-id-34 div.sk-parallel-item:only-child::after {width: 0;}#sk-container-id-34 div.sk-dashed-wrapped {border: 1px dashed gray;margin: 0 0.4em 0.5em 0.4em;box-sizing: border-box;padding-bottom: 0.4em;background-color: white;}#sk-container-id-34 div.sk-label label {font-family: monospace;font-weight: bold;display: inline-block;line-height: 1.2em;}#sk-container-id-34 div.sk-label-container {text-align: center;}#sk-container-id-34 div.sk-container {/* jupyter's `normalize.less` sets `[hidden] { display: none; }` but bootstrap.min.css set `[hidden] { display: none !important; }` so we also need the `!important` here to be able to override the default hidden behavior on the sphinx rendered scikit-learn.org. See: https://github.com/scikit-learn/scikit-learn/issues/21755 */display: inline-block !important;position: relative;}#sk-container-id-34 div.sk-text-repr-fallback {display: none;}</style><div id=\"sk-container-id-34\" class=\"sk-top-container\"><div class=\"sk-text-repr-fallback\"><pre>LinearRegression()</pre><b>In a Jupyter environment, please rerun this cell to show the HTML representation or trust the notebook. <br />On GitHub, the HTML representation is unable to render, please try loading this page with nbviewer.org.</b></div><div class=\"sk-container\" hidden><div class=\"sk-item\"><div class=\"sk-estimator sk-toggleable\"><input class=\"sk-toggleable__control sk-hidden--visually\" id=\"sk-estimator-id-34\" type=\"checkbox\" checked><label for=\"sk-estimator-id-34\" class=\"sk-toggleable__label sk-toggleable__label-arrow\">LinearRegression</label><div class=\"sk-toggleable__content\"><pre>LinearRegression()</pre></div></div></div></div></div>"
      ],
      "text/plain": [
       "LinearRegression()"
      ]
     },
     "execution_count": 366,
     "metadata": {},
     "output_type": "execute_result"
    }
   ],
   "source": [
    "lrmodel = LinearRegression()\n",
    "lrmodel.fit(x_train, y_train)"
   ]
  },
  {
   "cell_type": "code",
   "execution_count": 367,
   "metadata": {},
   "outputs": [],
   "source": [
    "y_pred_lr = lrmodel.predict(x_test)"
   ]
  },
  {
   "cell_type": "code",
   "execution_count": 368,
   "metadata": {},
   "outputs": [
    {
     "data": {
      "text/plain": [
       "0.03326291452453726"
      ]
     },
     "execution_count": 368,
     "metadata": {},
     "output_type": "execute_result"
    }
   ],
   "source": [
    "lrp = mean_absolute_percentage_error(y_pred_lr, y_test)\n",
    "lrp"
   ]
  },
  {
   "cell_type": "code",
   "execution_count": 369,
   "metadata": {},
   "outputs": [
    {
     "data": {
      "text/plain": [
       "0.0889073548304053"
      ]
     },
     "execution_count": 369,
     "metadata": {},
     "output_type": "execute_result"
    }
   ],
   "source": [
    "lre = mean_absolute_error(y_pred_lr, y_test)\n",
    "lre"
   ]
  },
  {
   "cell_type": "code",
   "execution_count": 370,
   "metadata": {},
   "outputs": [
    {
     "name": "stdout",
     "output_type": "stream",
     "text": [
      "[LightGBM] [Info] Auto-choosing col-wise multi-threading, the overhead of testing was 0.000257 seconds.\n",
      "You can set `force_col_wise=true` to remove the overhead.\n",
      "[LightGBM] [Info] Total Bins 2246\n",
      "[LightGBM] [Info] Number of data points in the train set: 3615, number of used features: 33\n",
      "[LightGBM] [Info] Start training from score 2.296542\n",
      "[LightGBM] [Warning] No further splits with positive gain, best gain: -inf\n",
      "[LightGBM] [Warning] No further splits with positive gain, best gain: -inf\n",
      "[LightGBM] [Warning] No further splits with positive gain, best gain: -inf\n",
      "[LightGBM] [Warning] No further splits with positive gain, best gain: -inf\n",
      "[LightGBM] [Warning] No further splits with positive gain, best gain: -inf\n",
      "[LightGBM] [Warning] No further splits with positive gain, best gain: -inf\n",
      "[LightGBM] [Warning] No further splits with positive gain, best gain: -inf\n",
      "[LightGBM] [Warning] No further splits with positive gain, best gain: -inf\n",
      "[LightGBM] [Warning] No further splits with positive gain, best gain: -inf\n",
      "[LightGBM] [Warning] No further splits with positive gain, best gain: -inf\n",
      "[LightGBM] [Warning] No further splits with positive gain, best gain: -inf\n"
     ]
    },
    {
     "data": {
      "text/html": [
       "<style>#sk-container-id-35 {color: black;}#sk-container-id-35 pre{padding: 0;}#sk-container-id-35 div.sk-toggleable {background-color: white;}#sk-container-id-35 label.sk-toggleable__label {cursor: pointer;display: block;width: 100%;margin-bottom: 0;padding: 0.3em;box-sizing: border-box;text-align: center;}#sk-container-id-35 label.sk-toggleable__label-arrow:before {content: \"▸\";float: left;margin-right: 0.25em;color: #696969;}#sk-container-id-35 label.sk-toggleable__label-arrow:hover:before {color: black;}#sk-container-id-35 div.sk-estimator:hover label.sk-toggleable__label-arrow:before {color: black;}#sk-container-id-35 div.sk-toggleable__content {max-height: 0;max-width: 0;overflow: hidden;text-align: left;background-color: #f0f8ff;}#sk-container-id-35 div.sk-toggleable__content pre {margin: 0.2em;color: black;border-radius: 0.25em;background-color: #f0f8ff;}#sk-container-id-35 input.sk-toggleable__control:checked~div.sk-toggleable__content {max-height: 200px;max-width: 100%;overflow: auto;}#sk-container-id-35 input.sk-toggleable__control:checked~label.sk-toggleable__label-arrow:before {content: \"▾\";}#sk-container-id-35 div.sk-estimator input.sk-toggleable__control:checked~label.sk-toggleable__label {background-color: #d4ebff;}#sk-container-id-35 div.sk-label input.sk-toggleable__control:checked~label.sk-toggleable__label {background-color: #d4ebff;}#sk-container-id-35 input.sk-hidden--visually {border: 0;clip: rect(1px 1px 1px 1px);clip: rect(1px, 1px, 1px, 1px);height: 1px;margin: -1px;overflow: hidden;padding: 0;position: absolute;width: 1px;}#sk-container-id-35 div.sk-estimator {font-family: monospace;background-color: #f0f8ff;border: 1px dotted black;border-radius: 0.25em;box-sizing: border-box;margin-bottom: 0.5em;}#sk-container-id-35 div.sk-estimator:hover {background-color: #d4ebff;}#sk-container-id-35 div.sk-parallel-item::after {content: \"\";width: 100%;border-bottom: 1px solid gray;flex-grow: 1;}#sk-container-id-35 div.sk-label:hover label.sk-toggleable__label {background-color: #d4ebff;}#sk-container-id-35 div.sk-serial::before {content: \"\";position: absolute;border-left: 1px solid gray;box-sizing: border-box;top: 0;bottom: 0;left: 50%;z-index: 0;}#sk-container-id-35 div.sk-serial {display: flex;flex-direction: column;align-items: center;background-color: white;padding-right: 0.2em;padding-left: 0.2em;position: relative;}#sk-container-id-35 div.sk-item {position: relative;z-index: 1;}#sk-container-id-35 div.sk-parallel {display: flex;align-items: stretch;justify-content: center;background-color: white;position: relative;}#sk-container-id-35 div.sk-item::before, #sk-container-id-35 div.sk-parallel-item::before {content: \"\";position: absolute;border-left: 1px solid gray;box-sizing: border-box;top: 0;bottom: 0;left: 50%;z-index: -1;}#sk-container-id-35 div.sk-parallel-item {display: flex;flex-direction: column;z-index: 1;position: relative;background-color: white;}#sk-container-id-35 div.sk-parallel-item:first-child::after {align-self: flex-end;width: 50%;}#sk-container-id-35 div.sk-parallel-item:last-child::after {align-self: flex-start;width: 50%;}#sk-container-id-35 div.sk-parallel-item:only-child::after {width: 0;}#sk-container-id-35 div.sk-dashed-wrapped {border: 1px dashed gray;margin: 0 0.4em 0.5em 0.4em;box-sizing: border-box;padding-bottom: 0.4em;background-color: white;}#sk-container-id-35 div.sk-label label {font-family: monospace;font-weight: bold;display: inline-block;line-height: 1.2em;}#sk-container-id-35 div.sk-label-container {text-align: center;}#sk-container-id-35 div.sk-container {/* jupyter's `normalize.less` sets `[hidden] { display: none; }` but bootstrap.min.css set `[hidden] { display: none !important; }` so we also need the `!important` here to be able to override the default hidden behavior on the sphinx rendered scikit-learn.org. See: https://github.com/scikit-learn/scikit-learn/issues/21755 */display: inline-block !important;position: relative;}#sk-container-id-35 div.sk-text-repr-fallback {display: none;}</style><div id=\"sk-container-id-35\" class=\"sk-top-container\"><div class=\"sk-text-repr-fallback\"><pre>LGBMRegressor()</pre><b>In a Jupyter environment, please rerun this cell to show the HTML representation or trust the notebook. <br />On GitHub, the HTML representation is unable to render, please try loading this page with nbviewer.org.</b></div><div class=\"sk-container\" hidden><div class=\"sk-item\"><div class=\"sk-estimator sk-toggleable\"><input class=\"sk-toggleable__control sk-hidden--visually\" id=\"sk-estimator-id-35\" type=\"checkbox\" checked><label for=\"sk-estimator-id-35\" class=\"sk-toggleable__label sk-toggleable__label-arrow\">LGBMRegressor</label><div class=\"sk-toggleable__content\"><pre>LGBMRegressor()</pre></div></div></div></div></div>"
      ],
      "text/plain": [
       "LGBMRegressor()"
      ]
     },
     "execution_count": 370,
     "metadata": {},
     "output_type": "execute_result"
    }
   ],
   "source": [
    "lgbmrmodel = LGBMRegressor()\n",
    "lgbmrmodel.fit(x_train, y_train)"
   ]
  },
  {
   "cell_type": "code",
   "execution_count": 371,
   "metadata": {},
   "outputs": [],
   "source": [
    "y_pred_lgbmr = lgbmrmodel.predict(x_test)"
   ]
  },
  {
   "cell_type": "code",
   "execution_count": 372,
   "metadata": {},
   "outputs": [
    {
     "data": {
      "text/plain": [
       "0.00639389299690724"
      ]
     },
     "execution_count": 372,
     "metadata": {},
     "output_type": "execute_result"
    }
   ],
   "source": [
    "lgbmrp = mean_absolute_percentage_error(y_pred_lgbmr, y_test)\n",
    "lgbmrp"
   ]
  },
  {
   "cell_type": "code",
   "execution_count": 373,
   "metadata": {},
   "outputs": [
    {
     "data": {
      "text/plain": [
       "0.01631060201015504"
      ]
     },
     "execution_count": 373,
     "metadata": {},
     "output_type": "execute_result"
    }
   ],
   "source": [
    "lgbmre = mean_absolute_error(y_pred_lgbmr, y_test)\n",
    "lgbmre"
   ]
  },
  {
   "cell_type": "code",
   "execution_count": 374,
   "metadata": {},
   "outputs": [
    {
     "data": {
      "text/html": [
       "<style>#sk-container-id-36 {color: black;}#sk-container-id-36 pre{padding: 0;}#sk-container-id-36 div.sk-toggleable {background-color: white;}#sk-container-id-36 label.sk-toggleable__label {cursor: pointer;display: block;width: 100%;margin-bottom: 0;padding: 0.3em;box-sizing: border-box;text-align: center;}#sk-container-id-36 label.sk-toggleable__label-arrow:before {content: \"▸\";float: left;margin-right: 0.25em;color: #696969;}#sk-container-id-36 label.sk-toggleable__label-arrow:hover:before {color: black;}#sk-container-id-36 div.sk-estimator:hover label.sk-toggleable__label-arrow:before {color: black;}#sk-container-id-36 div.sk-toggleable__content {max-height: 0;max-width: 0;overflow: hidden;text-align: left;background-color: #f0f8ff;}#sk-container-id-36 div.sk-toggleable__content pre {margin: 0.2em;color: black;border-radius: 0.25em;background-color: #f0f8ff;}#sk-container-id-36 input.sk-toggleable__control:checked~div.sk-toggleable__content {max-height: 200px;max-width: 100%;overflow: auto;}#sk-container-id-36 input.sk-toggleable__control:checked~label.sk-toggleable__label-arrow:before {content: \"▾\";}#sk-container-id-36 div.sk-estimator input.sk-toggleable__control:checked~label.sk-toggleable__label {background-color: #d4ebff;}#sk-container-id-36 div.sk-label input.sk-toggleable__control:checked~label.sk-toggleable__label {background-color: #d4ebff;}#sk-container-id-36 input.sk-hidden--visually {border: 0;clip: rect(1px 1px 1px 1px);clip: rect(1px, 1px, 1px, 1px);height: 1px;margin: -1px;overflow: hidden;padding: 0;position: absolute;width: 1px;}#sk-container-id-36 div.sk-estimator {font-family: monospace;background-color: #f0f8ff;border: 1px dotted black;border-radius: 0.25em;box-sizing: border-box;margin-bottom: 0.5em;}#sk-container-id-36 div.sk-estimator:hover {background-color: #d4ebff;}#sk-container-id-36 div.sk-parallel-item::after {content: \"\";width: 100%;border-bottom: 1px solid gray;flex-grow: 1;}#sk-container-id-36 div.sk-label:hover label.sk-toggleable__label {background-color: #d4ebff;}#sk-container-id-36 div.sk-serial::before {content: \"\";position: absolute;border-left: 1px solid gray;box-sizing: border-box;top: 0;bottom: 0;left: 50%;z-index: 0;}#sk-container-id-36 div.sk-serial {display: flex;flex-direction: column;align-items: center;background-color: white;padding-right: 0.2em;padding-left: 0.2em;position: relative;}#sk-container-id-36 div.sk-item {position: relative;z-index: 1;}#sk-container-id-36 div.sk-parallel {display: flex;align-items: stretch;justify-content: center;background-color: white;position: relative;}#sk-container-id-36 div.sk-item::before, #sk-container-id-36 div.sk-parallel-item::before {content: \"\";position: absolute;border-left: 1px solid gray;box-sizing: border-box;top: 0;bottom: 0;left: 50%;z-index: -1;}#sk-container-id-36 div.sk-parallel-item {display: flex;flex-direction: column;z-index: 1;position: relative;background-color: white;}#sk-container-id-36 div.sk-parallel-item:first-child::after {align-self: flex-end;width: 50%;}#sk-container-id-36 div.sk-parallel-item:last-child::after {align-self: flex-start;width: 50%;}#sk-container-id-36 div.sk-parallel-item:only-child::after {width: 0;}#sk-container-id-36 div.sk-dashed-wrapped {border: 1px dashed gray;margin: 0 0.4em 0.5em 0.4em;box-sizing: border-box;padding-bottom: 0.4em;background-color: white;}#sk-container-id-36 div.sk-label label {font-family: monospace;font-weight: bold;display: inline-block;line-height: 1.2em;}#sk-container-id-36 div.sk-label-container {text-align: center;}#sk-container-id-36 div.sk-container {/* jupyter's `normalize.less` sets `[hidden] { display: none; }` but bootstrap.min.css set `[hidden] { display: none !important; }` so we also need the `!important` here to be able to override the default hidden behavior on the sphinx rendered scikit-learn.org. See: https://github.com/scikit-learn/scikit-learn/issues/21755 */display: inline-block !important;position: relative;}#sk-container-id-36 div.sk-text-repr-fallback {display: none;}</style><div id=\"sk-container-id-36\" class=\"sk-top-container\"><div class=\"sk-text-repr-fallback\"><pre>GradientBoostingRegressor()</pre><b>In a Jupyter environment, please rerun this cell to show the HTML representation or trust the notebook. <br />On GitHub, the HTML representation is unable to render, please try loading this page with nbviewer.org.</b></div><div class=\"sk-container\" hidden><div class=\"sk-item\"><div class=\"sk-estimator sk-toggleable\"><input class=\"sk-toggleable__control sk-hidden--visually\" id=\"sk-estimator-id-36\" type=\"checkbox\" checked><label for=\"sk-estimator-id-36\" class=\"sk-toggleable__label sk-toggleable__label-arrow\">GradientBoostingRegressor</label><div class=\"sk-toggleable__content\"><pre>GradientBoostingRegressor()</pre></div></div></div></div></div>"
      ],
      "text/plain": [
       "GradientBoostingRegressor()"
      ]
     },
     "execution_count": 374,
     "metadata": {},
     "output_type": "execute_result"
    }
   ],
   "source": [
    "gbrmodel = GradientBoostingRegressor()\n",
    "gbrmodel.fit(x_train, y_train)"
   ]
  },
  {
   "cell_type": "code",
   "execution_count": 375,
   "metadata": {},
   "outputs": [
    {
     "data": {
      "text/plain": [
       "array([2.99998132, 1.00003444, 2.00000788, 2.99998132, 2.99998132,\n",
       "       1.00003444, 1.00003444, 1.00003444, 2.00000788, 2.00000788,\n",
       "       2.99998132, 2.00000788, 2.99998132, 2.00000788, 2.00000788,\n",
       "       2.00000788, 2.99998132, 2.00000788, 1.00003444, 2.99998132,\n",
       "       2.99998132, 2.00000788, 4.99992819, 2.99998132, 1.00003444,\n",
       "       2.00000788, 1.00003444, 1.00003444, 2.99998132, 2.00000788,\n",
       "       2.00000788, 1.00003444, 2.99998132, 4.99992819, 4.99992819,\n",
       "       2.99998132, 1.00003444, 2.99998132, 2.00000788, 1.00003444,\n",
       "       2.99998132, 4.99992819, 1.00003444, 4.99992819, 2.00000788,\n",
       "       4.99992819, 2.00000788, 1.00003444, 1.00003444, 1.00003444,\n",
       "       2.99998132, 1.00003444, 2.99998132, 2.00000788, 2.99998132,\n",
       "       2.00000788, 1.00003444, 2.00000788, 4.99992819, 4.99992819,\n",
       "       2.00000788, 1.00003444, 2.00000788, 1.00003444, 2.00000788,\n",
       "       2.99998132, 2.99998132, 2.99998132, 2.00000788, 2.00000788,\n",
       "       4.99992819, 1.00003444, 2.00000788, 1.00003444, 1.00003444,\n",
       "       2.00000788, 4.99992819, 2.99998132, 2.99998132, 1.00003444,\n",
       "       1.00003444, 2.99998132, 2.99998132, 1.00003444, 2.99998132,\n",
       "       1.00003444, 2.99998132, 2.00000788, 1.00003444, 2.00000788,\n",
       "       2.00000788, 2.00000788, 2.99998132, 4.99992819, 2.99998132,\n",
       "       4.99992819, 2.99998132, 1.00003444, 2.99998132, 2.00000788,\n",
       "       2.99998132, 1.00003444, 1.00003444, 2.99998132, 2.99998132,\n",
       "       2.00000788, 2.00000788, 4.99992819, 1.00003444, 4.99992819,\n",
       "       1.00003444, 2.00000788, 4.99992819, 2.99998132, 1.00003444,\n",
       "       4.99992819, 2.00000788, 4.99992819, 1.00003444, 1.00003444,\n",
       "       2.99998132, 4.99992819, 2.99998132, 2.99998132, 2.99998132,\n",
       "       2.00000788, 1.00003444, 2.00000788, 1.00003444, 2.00000788,\n",
       "       1.00003444, 4.99992819, 1.00003444, 2.99998132, 2.99998132,\n",
       "       2.99998132, 1.00003444, 1.00003444, 1.00003444, 4.99992819,\n",
       "       1.00003444, 2.00000788, 1.00003444, 2.99998132, 1.00003444,\n",
       "       1.00003444, 1.00003444, 1.00003444, 1.00003444, 1.00003444,\n",
       "       1.00003444, 4.99992819, 2.99998132, 2.00000788, 2.00000788,\n",
       "       2.99998132, 1.00003444, 4.99992819, 1.00003444, 2.00000788,\n",
       "       2.00000788, 1.00003444, 2.99998132, 2.99998132, 1.00003444,\n",
       "       2.99998132, 2.99998132, 1.00003444, 4.99992819, 1.00003444,\n",
       "       2.00000788, 2.00000788, 1.00003444, 2.00000788, 4.99992819,\n",
       "       1.00003444, 1.00003444, 4.99992819, 1.00003444, 5.99990163,\n",
       "       2.00000788, 2.99998132, 2.00000788, 2.99998132, 1.00003444,\n",
       "       2.99998132, 2.99998132, 1.00003444, 2.00000788, 2.99998132,\n",
       "       1.00003444, 2.99998132, 4.99992819, 2.00000788, 2.99998132,\n",
       "       2.99998132, 1.00003444, 4.99992819, 2.00000788, 2.00000788,\n",
       "       2.00000788, 1.00003444, 2.99998132, 1.00003444, 1.00003444,\n",
       "       2.99998132, 2.00000788, 2.99998132, 2.00000788, 1.00003444,\n",
       "       1.00003444, 1.00003444, 2.00000788, 2.99998132, 2.99998132,\n",
       "       4.99992819, 2.99998132, 2.99998132, 1.00003444, 2.99998132,\n",
       "       1.00003444, 2.00000788, 1.00003444, 2.00000788, 2.00000788,\n",
       "       2.99998132, 2.99998132, 1.00003444, 1.00003444, 2.99998132,\n",
       "       3.99995475, 1.00003444, 1.00003444, 2.99998132, 1.00003444,\n",
       "       2.00000788, 2.00000788, 2.99998132, 4.99992819, 2.00000788,\n",
       "       2.99998132, 4.99992819, 1.00003444, 2.99998132, 2.99998132,\n",
       "       4.99992819, 2.99998132, 2.99998132, 2.99998132, 2.00000788,\n",
       "       2.99998132, 4.99992819, 1.00003444, 1.00003444, 2.00000788,\n",
       "       2.00000788, 2.00000788, 2.99998132, 2.99998132, 4.99992819,\n",
       "       1.00003444, 2.99998132, 1.00003444, 2.99998132, 1.00003444,\n",
       "       2.00000788, 4.99992819, 2.00000788, 2.00000788, 2.99998132,\n",
       "       2.00000788, 2.99998132, 4.99992819, 1.00003444, 1.00003444,\n",
       "       1.00003444, 2.00000788, 2.99998132, 2.00000788, 2.00000788,\n",
       "       4.99992819, 2.00000788, 2.00000788, 2.99998132, 2.99998132,\n",
       "       1.00003444, 1.00003444, 1.00003444, 2.00000788, 2.00000788,\n",
       "       1.00003444, 2.00000788, 1.00003444, 2.99998132, 2.99998132,\n",
       "       4.99992819, 2.00000788, 2.99998132, 1.00003444, 4.99992819,\n",
       "       2.99998132, 2.99998132, 1.00003444, 2.99998132, 2.99998132,\n",
       "       2.00000788, 2.99998132, 2.99998132, 1.00003444, 2.99998132,\n",
       "       2.99998132, 2.99998132, 2.00000788, 2.00000788, 1.00003444,\n",
       "       1.00003444, 4.99992819, 1.00003444, 2.00000788, 2.00000788,\n",
       "       2.99998132, 2.99998132, 2.00000788, 2.99998132, 2.99998132,\n",
       "       2.00000788, 2.00000788, 2.99998132, 2.00000788, 1.00003444,\n",
       "       4.99992819, 2.00000788, 1.00003444, 1.00003444, 1.00003444,\n",
       "       4.99992819, 1.00003444, 2.99998132, 1.00003444, 2.00000788,\n",
       "       4.99992819, 1.00003444, 2.99998132, 4.99992819, 2.99998132,\n",
       "       2.99998132, 2.00000788, 1.00003444, 4.99992819, 1.00003444,\n",
       "       2.00000788, 1.00003444, 1.00003444, 2.00000788, 2.99998132,\n",
       "       2.00000788, 1.00003444, 1.00003444, 2.00000788, 4.99992819,\n",
       "       1.00003444, 2.99998132, 2.00000788, 2.00000788, 1.00003444,\n",
       "       4.99992819, 2.99998132, 4.99992819, 4.99992819, 1.00003444,\n",
       "       1.00003444, 2.99998132, 1.00003444, 1.00003444, 1.00003444,\n",
       "       1.00003444, 2.00000788, 2.00000788, 2.99998132, 1.00003444,\n",
       "       1.00003444, 2.99998132, 2.00000788, 2.99998132, 1.00003444,\n",
       "       2.00000788, 2.00000788, 1.00003444, 1.00003444, 4.99992819,\n",
       "       2.00000788, 2.99998132, 2.99998132, 4.99992819, 2.99998132,\n",
       "       2.00000788, 4.99992819, 2.99998132, 1.00003444, 1.00003444,\n",
       "       4.99992819, 2.00000788])"
      ]
     },
     "execution_count": 375,
     "metadata": {},
     "output_type": "execute_result"
    }
   ],
   "source": [
    "y_pred_gbr = gbrmodel.predict(x_test)\n",
    "y_pred_gbr"
   ]
  },
  {
   "cell_type": "code",
   "execution_count": 376,
   "metadata": {},
   "outputs": [
    {
     "data": {
      "text/plain": [
       "1.563751702075748e-05"
      ]
     },
     "execution_count": 376,
     "metadata": {},
     "output_type": "execute_result"
    }
   ],
   "source": [
    "gbrp = mean_absolute_percentage_error(y_pred_gbr, y_test)\n",
    "gbrp"
   ]
  },
  {
   "cell_type": "code",
   "execution_count": 377,
   "metadata": {},
   "outputs": [
    {
     "data": {
      "text/plain": [
       "2.8001299663413206e-05"
      ]
     },
     "execution_count": 377,
     "metadata": {},
     "output_type": "execute_result"
    }
   ],
   "source": [
    "gbre = mean_absolute_error(y_pred_gbr, y_test)\n",
    "gbre"
   ]
  },
  {
   "cell_type": "code",
   "execution_count": 378,
   "metadata": {},
   "outputs": [
    {
     "data": {
      "text/html": [
       "<style>#sk-container-id-37 {color: black;}#sk-container-id-37 pre{padding: 0;}#sk-container-id-37 div.sk-toggleable {background-color: white;}#sk-container-id-37 label.sk-toggleable__label {cursor: pointer;display: block;width: 100%;margin-bottom: 0;padding: 0.3em;box-sizing: border-box;text-align: center;}#sk-container-id-37 label.sk-toggleable__label-arrow:before {content: \"▸\";float: left;margin-right: 0.25em;color: #696969;}#sk-container-id-37 label.sk-toggleable__label-arrow:hover:before {color: black;}#sk-container-id-37 div.sk-estimator:hover label.sk-toggleable__label-arrow:before {color: black;}#sk-container-id-37 div.sk-toggleable__content {max-height: 0;max-width: 0;overflow: hidden;text-align: left;background-color: #f0f8ff;}#sk-container-id-37 div.sk-toggleable__content pre {margin: 0.2em;color: black;border-radius: 0.25em;background-color: #f0f8ff;}#sk-container-id-37 input.sk-toggleable__control:checked~div.sk-toggleable__content {max-height: 200px;max-width: 100%;overflow: auto;}#sk-container-id-37 input.sk-toggleable__control:checked~label.sk-toggleable__label-arrow:before {content: \"▾\";}#sk-container-id-37 div.sk-estimator input.sk-toggleable__control:checked~label.sk-toggleable__label {background-color: #d4ebff;}#sk-container-id-37 div.sk-label input.sk-toggleable__control:checked~label.sk-toggleable__label {background-color: #d4ebff;}#sk-container-id-37 input.sk-hidden--visually {border: 0;clip: rect(1px 1px 1px 1px);clip: rect(1px, 1px, 1px, 1px);height: 1px;margin: -1px;overflow: hidden;padding: 0;position: absolute;width: 1px;}#sk-container-id-37 div.sk-estimator {font-family: monospace;background-color: #f0f8ff;border: 1px dotted black;border-radius: 0.25em;box-sizing: border-box;margin-bottom: 0.5em;}#sk-container-id-37 div.sk-estimator:hover {background-color: #d4ebff;}#sk-container-id-37 div.sk-parallel-item::after {content: \"\";width: 100%;border-bottom: 1px solid gray;flex-grow: 1;}#sk-container-id-37 div.sk-label:hover label.sk-toggleable__label {background-color: #d4ebff;}#sk-container-id-37 div.sk-serial::before {content: \"\";position: absolute;border-left: 1px solid gray;box-sizing: border-box;top: 0;bottom: 0;left: 50%;z-index: 0;}#sk-container-id-37 div.sk-serial {display: flex;flex-direction: column;align-items: center;background-color: white;padding-right: 0.2em;padding-left: 0.2em;position: relative;}#sk-container-id-37 div.sk-item {position: relative;z-index: 1;}#sk-container-id-37 div.sk-parallel {display: flex;align-items: stretch;justify-content: center;background-color: white;position: relative;}#sk-container-id-37 div.sk-item::before, #sk-container-id-37 div.sk-parallel-item::before {content: \"\";position: absolute;border-left: 1px solid gray;box-sizing: border-box;top: 0;bottom: 0;left: 50%;z-index: -1;}#sk-container-id-37 div.sk-parallel-item {display: flex;flex-direction: column;z-index: 1;position: relative;background-color: white;}#sk-container-id-37 div.sk-parallel-item:first-child::after {align-self: flex-end;width: 50%;}#sk-container-id-37 div.sk-parallel-item:last-child::after {align-self: flex-start;width: 50%;}#sk-container-id-37 div.sk-parallel-item:only-child::after {width: 0;}#sk-container-id-37 div.sk-dashed-wrapped {border: 1px dashed gray;margin: 0 0.4em 0.5em 0.4em;box-sizing: border-box;padding-bottom: 0.4em;background-color: white;}#sk-container-id-37 div.sk-label label {font-family: monospace;font-weight: bold;display: inline-block;line-height: 1.2em;}#sk-container-id-37 div.sk-label-container {text-align: center;}#sk-container-id-37 div.sk-container {/* jupyter's `normalize.less` sets `[hidden] { display: none; }` but bootstrap.min.css set `[hidden] { display: none !important; }` so we also need the `!important` here to be able to override the default hidden behavior on the sphinx rendered scikit-learn.org. See: https://github.com/scikit-learn/scikit-learn/issues/21755 */display: inline-block !important;position: relative;}#sk-container-id-37 div.sk-text-repr-fallback {display: none;}</style><div id=\"sk-container-id-37\" class=\"sk-top-container\"><div class=\"sk-text-repr-fallback\"><pre>BayesianRidge()</pre><b>In a Jupyter environment, please rerun this cell to show the HTML representation or trust the notebook. <br />On GitHub, the HTML representation is unable to render, please try loading this page with nbviewer.org.</b></div><div class=\"sk-container\" hidden><div class=\"sk-item\"><div class=\"sk-estimator sk-toggleable\"><input class=\"sk-toggleable__control sk-hidden--visually\" id=\"sk-estimator-id-37\" type=\"checkbox\" checked><label for=\"sk-estimator-id-37\" class=\"sk-toggleable__label sk-toggleable__label-arrow\">BayesianRidge</label><div class=\"sk-toggleable__content\"><pre>BayesianRidge()</pre></div></div></div></div></div>"
      ],
      "text/plain": [
       "BayesianRidge()"
      ]
     },
     "execution_count": 378,
     "metadata": {},
     "output_type": "execute_result"
    }
   ],
   "source": [
    "brmodel = BayesianRidge()\n",
    "brmodel.fit(x_train, y_train)"
   ]
  },
  {
   "cell_type": "code",
   "execution_count": 379,
   "metadata": {},
   "outputs": [],
   "source": [
    "y_pred_br = brmodel.predict(x_test)"
   ]
  },
  {
   "cell_type": "code",
   "execution_count": 380,
   "metadata": {},
   "outputs": [
    {
     "data": {
      "text/plain": [
       "0.033335004235501786"
      ]
     },
     "execution_count": 380,
     "metadata": {},
     "output_type": "execute_result"
    }
   ],
   "source": [
    "brp = mean_absolute_percentage_error(y_pred_br, y_test)\n",
    "brp"
   ]
  },
  {
   "cell_type": "code",
   "execution_count": 381,
   "metadata": {},
   "outputs": [
    {
     "data": {
      "text/plain": [
       "0.08904517485611298"
      ]
     },
     "execution_count": 381,
     "metadata": {},
     "output_type": "execute_result"
    }
   ],
   "source": [
    "bre = mean_absolute_error(y_pred_br, y_test)\n",
    "bre"
   ]
  },
  {
   "cell_type": "code",
   "execution_count": 382,
   "metadata": {},
   "outputs": [
    {
     "data": {
      "text/html": [
       "<style>#sk-container-id-38 {color: black;}#sk-container-id-38 pre{padding: 0;}#sk-container-id-38 div.sk-toggleable {background-color: white;}#sk-container-id-38 label.sk-toggleable__label {cursor: pointer;display: block;width: 100%;margin-bottom: 0;padding: 0.3em;box-sizing: border-box;text-align: center;}#sk-container-id-38 label.sk-toggleable__label-arrow:before {content: \"▸\";float: left;margin-right: 0.25em;color: #696969;}#sk-container-id-38 label.sk-toggleable__label-arrow:hover:before {color: black;}#sk-container-id-38 div.sk-estimator:hover label.sk-toggleable__label-arrow:before {color: black;}#sk-container-id-38 div.sk-toggleable__content {max-height: 0;max-width: 0;overflow: hidden;text-align: left;background-color: #f0f8ff;}#sk-container-id-38 div.sk-toggleable__content pre {margin: 0.2em;color: black;border-radius: 0.25em;background-color: #f0f8ff;}#sk-container-id-38 input.sk-toggleable__control:checked~div.sk-toggleable__content {max-height: 200px;max-width: 100%;overflow: auto;}#sk-container-id-38 input.sk-toggleable__control:checked~label.sk-toggleable__label-arrow:before {content: \"▾\";}#sk-container-id-38 div.sk-estimator input.sk-toggleable__control:checked~label.sk-toggleable__label {background-color: #d4ebff;}#sk-container-id-38 div.sk-label input.sk-toggleable__control:checked~label.sk-toggleable__label {background-color: #d4ebff;}#sk-container-id-38 input.sk-hidden--visually {border: 0;clip: rect(1px 1px 1px 1px);clip: rect(1px, 1px, 1px, 1px);height: 1px;margin: -1px;overflow: hidden;padding: 0;position: absolute;width: 1px;}#sk-container-id-38 div.sk-estimator {font-family: monospace;background-color: #f0f8ff;border: 1px dotted black;border-radius: 0.25em;box-sizing: border-box;margin-bottom: 0.5em;}#sk-container-id-38 div.sk-estimator:hover {background-color: #d4ebff;}#sk-container-id-38 div.sk-parallel-item::after {content: \"\";width: 100%;border-bottom: 1px solid gray;flex-grow: 1;}#sk-container-id-38 div.sk-label:hover label.sk-toggleable__label {background-color: #d4ebff;}#sk-container-id-38 div.sk-serial::before {content: \"\";position: absolute;border-left: 1px solid gray;box-sizing: border-box;top: 0;bottom: 0;left: 50%;z-index: 0;}#sk-container-id-38 div.sk-serial {display: flex;flex-direction: column;align-items: center;background-color: white;padding-right: 0.2em;padding-left: 0.2em;position: relative;}#sk-container-id-38 div.sk-item {position: relative;z-index: 1;}#sk-container-id-38 div.sk-parallel {display: flex;align-items: stretch;justify-content: center;background-color: white;position: relative;}#sk-container-id-38 div.sk-item::before, #sk-container-id-38 div.sk-parallel-item::before {content: \"\";position: absolute;border-left: 1px solid gray;box-sizing: border-box;top: 0;bottom: 0;left: 50%;z-index: -1;}#sk-container-id-38 div.sk-parallel-item {display: flex;flex-direction: column;z-index: 1;position: relative;background-color: white;}#sk-container-id-38 div.sk-parallel-item:first-child::after {align-self: flex-end;width: 50%;}#sk-container-id-38 div.sk-parallel-item:last-child::after {align-self: flex-start;width: 50%;}#sk-container-id-38 div.sk-parallel-item:only-child::after {width: 0;}#sk-container-id-38 div.sk-dashed-wrapped {border: 1px dashed gray;margin: 0 0.4em 0.5em 0.4em;box-sizing: border-box;padding-bottom: 0.4em;background-color: white;}#sk-container-id-38 div.sk-label label {font-family: monospace;font-weight: bold;display: inline-block;line-height: 1.2em;}#sk-container-id-38 div.sk-label-container {text-align: center;}#sk-container-id-38 div.sk-container {/* jupyter's `normalize.less` sets `[hidden] { display: none; }` but bootstrap.min.css set `[hidden] { display: none !important; }` so we also need the `!important` here to be able to override the default hidden behavior on the sphinx rendered scikit-learn.org. See: https://github.com/scikit-learn/scikit-learn/issues/21755 */display: inline-block !important;position: relative;}#sk-container-id-38 div.sk-text-repr-fallback {display: none;}</style><div id=\"sk-container-id-38\" class=\"sk-top-container\"><div class=\"sk-text-repr-fallback\"><pre>ElasticNet()</pre><b>In a Jupyter environment, please rerun this cell to show the HTML representation or trust the notebook. <br />On GitHub, the HTML representation is unable to render, please try loading this page with nbviewer.org.</b></div><div class=\"sk-container\" hidden><div class=\"sk-item\"><div class=\"sk-estimator sk-toggleable\"><input class=\"sk-toggleable__control sk-hidden--visually\" id=\"sk-estimator-id-38\" type=\"checkbox\" checked><label for=\"sk-estimator-id-38\" class=\"sk-toggleable__label sk-toggleable__label-arrow\">ElasticNet</label><div class=\"sk-toggleable__content\"><pre>ElasticNet()</pre></div></div></div></div></div>"
      ],
      "text/plain": [
       "ElasticNet()"
      ]
     },
     "execution_count": 382,
     "metadata": {},
     "output_type": "execute_result"
    }
   ],
   "source": [
    "enrmodel = ElasticNet()\n",
    "enrmodel.fit(x_train, y_train)"
   ]
  },
  {
   "cell_type": "code",
   "execution_count": 383,
   "metadata": {},
   "outputs": [],
   "source": [
    "y_pred_enr = enrmodel.predict(x_test)"
   ]
  },
  {
   "cell_type": "code",
   "execution_count": 384,
   "metadata": {},
   "outputs": [
    {
     "data": {
      "text/plain": [
       "0.17027360776948552"
      ]
     },
     "execution_count": 384,
     "metadata": {},
     "output_type": "execute_result"
    }
   ],
   "source": [
    "enrp = mean_absolute_percentage_error(y_pred_enr, y_test)\n",
    "enrp"
   ]
  },
  {
   "cell_type": "code",
   "execution_count": 385,
   "metadata": {},
   "outputs": [
    {
     "data": {
      "text/plain": [
       "0.39653853231378067"
      ]
     },
     "execution_count": 385,
     "metadata": {},
     "output_type": "execute_result"
    }
   ],
   "source": [
    "enre = mean_absolute_error(y_pred_enr, y_test)\n",
    "enre"
   ]
  },
  {
   "cell_type": "code",
   "execution_count": 386,
   "metadata": {},
   "outputs": [
    {
     "data": {
      "text/html": [
       "<div>\n",
       "<style scoped>\n",
       "    .dataframe tbody tr th:only-of-type {\n",
       "        vertical-align: middle;\n",
       "    }\n",
       "\n",
       "    .dataframe tbody tr th {\n",
       "        vertical-align: top;\n",
       "    }\n",
       "\n",
       "    .dataframe thead th {\n",
       "        text-align: right;\n",
       "    }\n",
       "</style>\n",
       "<table border=\"1\" class=\"dataframe\">\n",
       "  <thead>\n",
       "    <tr style=\"text-align: right;\">\n",
       "      <th></th>\n",
       "      <th>Name</th>\n",
       "      <th>Mean Absolute Percentage Error</th>\n",
       "      <th>Mean Absolute Error</th>\n",
       "    </tr>\n",
       "  </thead>\n",
       "  <tbody>\n",
       "    <tr>\n",
       "      <th>0</th>\n",
       "      <td>LinearRegression</td>\n",
       "      <td>0.033263</td>\n",
       "      <td>0.088907</td>\n",
       "    </tr>\n",
       "    <tr>\n",
       "      <th>1</th>\n",
       "      <td>LGBMRegressor</td>\n",
       "      <td>0.006394</td>\n",
       "      <td>0.016311</td>\n",
       "    </tr>\n",
       "    <tr>\n",
       "      <th>2</th>\n",
       "      <td>GradientBoostingRegressor</td>\n",
       "      <td>0.000016</td>\n",
       "      <td>0.000028</td>\n",
       "    </tr>\n",
       "    <tr>\n",
       "      <th>3</th>\n",
       "      <td>BayesianRidge</td>\n",
       "      <td>0.033335</td>\n",
       "      <td>0.089045</td>\n",
       "    </tr>\n",
       "    <tr>\n",
       "      <th>4</th>\n",
       "      <td>Elastic Net</td>\n",
       "      <td>0.170274</td>\n",
       "      <td>0.396539</td>\n",
       "    </tr>\n",
       "  </tbody>\n",
       "</table>\n",
       "</div>"
      ],
      "text/plain": [
       "                        Name  Mean Absolute Percentage Error  \\\n",
       "0           LinearRegression                        0.033263   \n",
       "1              LGBMRegressor                        0.006394   \n",
       "2  GradientBoostingRegressor                        0.000016   \n",
       "3              BayesianRidge                        0.033335   \n",
       "4                Elastic Net                        0.170274   \n",
       "\n",
       "   Mean Absolute Error  \n",
       "0             0.088907  \n",
       "1             0.016311  \n",
       "2             0.000028  \n",
       "3             0.089045  \n",
       "4             0.396539  "
      ]
     },
     "execution_count": 386,
     "metadata": {},
     "output_type": "execute_result"
    }
   ],
   "source": [
    "data = {'Name': ['LinearRegression', 'LGBMRegressor', 'GradientBoostingRegressor', 'BayesianRidge', 'Elastic Net'], 'Mean Absolute Percentage Error': [lrp, lgbmrp, gbrp, brp, enrp], 'Mean Absolute Error': [lre, lgbmre, gbre, bre, enre]}\n",
    "df = pd.DataFrame(data)\n",
    "df"
   ]
  },
  {
   "cell_type": "code",
   "execution_count": 387,
   "metadata": {},
   "outputs": [
    {
     "data": {
      "image/png": "[encoded data removed]",
      "text/plain": [
       "<Figure size 640x480 with 1 Axes>"
      ]
     },
     "metadata": {},
     "output_type": "display_data"
    }
   ],
   "source": [
    "fig, ax = plt.subplots()\n",
    "df.plot.bar(x = 'Name', y = ['Mean Absolute Percentage Error', 'Mean Absolute Error'], rot = 40, ax = ax)\n",
    "for p in ax.patches: \n",
    "    ax.annotate(np.round(p.get_height(),decimals=6), (p.get_x()+p.get_width()/2., p.get_height()))"
   ]
  },
  {
   "cell_type": "code",
   "execution_count": 388,
   "metadata": {},
   "outputs": [
    {
     "name": "stdout",
     "output_type": "stream",
     "text": [
      "{'dt': 1705408078, 'weather': [{'id': 721, 'main': 'Haze', 'description': 'haze', 'icon': '50n'}], 'main': {'temp': 291.11, 'feels_like': 290.97, 'temp_min': 291.11, 'temp_max': 291.11, 'pressure': 1013, 'humidity': 77}, 'wind': {'speed': 2.06, 'deg': 30}, 'clouds': {'all': 20}}\n"
     ]
    }
   ],
   "source": [
    "url = 'https://api.agromonitoring.com/agro/1.0/weather'\n",
    "\n",
    "# Your API key\n",
    "api_key = '72dda568eb1979c7393042f3a8b715eb'\n",
    "\n",
    "# Headers and parameters (if needed)\n",
    "#headers = {'Authorization': f'Bearer {api_key}'}\n",
    "#params = {'param1': 'value1', 'param2': 'value2'}\n",
    "\n",
    "# Making the GET request\n",
    "response = requests.get(f'https://api.agromonitoring.com/agro/1.0/weather?lat=22.572646&lon=88.363895&appid={api_key}')\n",
    "\n",
    "# Checking if the request was successful\n",
    "if response.status_code == 200:\n",
    "    # Parsing the response JSON\n",
    "    data = response.json()\n",
    "    flat = pd.json_normalize(data)\n",
    "    #rw_df = pd.DataFrame(flat)\n",
    "    #print(flat)\n",
    "    print(data)\n",
    "else:\n",
    "    print(f'Failed to retrieve data: {response.status_code}')"
   ]
  }
 ],
 "metadata": {
  "kernelspec": {
   "display_name": "testvenv",
   "language": "python",
   "name": "python3"
  },
  "language_info": {
   "codemirror_mode": {
    "name": "ipython",
    "version": 3
   },
   "file_extension": ".py",
   "mimetype": "text/x-python",
   "name": "python",
   "nbconvert_exporter": "python",
   "pygments_lexer": "ipython3",
   "version": "3.11.6"
  }
 },
 "nbformat": 4,
 "nbformat_minor": 2
}
